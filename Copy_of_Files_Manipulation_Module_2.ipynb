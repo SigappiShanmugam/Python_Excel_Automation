{
  "cells": [
    {
      "cell_type": "markdown",
      "metadata": {
        "id": "view-in-github",
        "colab_type": "text"
      },
      "source": [
        "<a href=\"https://colab.research.google.com/github/SigappiShanmugam/Python_Excel_Automation/blob/main/Copy_of_Files_Manipulation_Module_2.ipynb\" target=\"_parent\"><img src=\"https://colab.research.google.com/assets/colab-badge.svg\" alt=\"Open In Colab\"/></a>"
      ]
    },
    {
      "cell_type": "markdown",
      "source": [
        "# 1.&nbsp;Set Up"
      ],
      "metadata": {
        "id": "bDYb4uuwZ2xh"
      }
    },
    {
      "cell_type": "code",
      "execution_count": null,
      "metadata": {
        "id": "_NXz7PBlN_KU"
      },
      "outputs": [],
      "source": [
        "# Import Libraries\n",
        "import os\n",
        "import glob\n",
        "import shutil\n",
        "import sys\n",
        "from pathlib import Path\n",
        "import pandas as pd"
      ]
    },
    {
      "cell_type": "code",
      "source": [
        "# Accessing Google Drive from Google Colab\n",
        "\n",
        "from google.colab import drive \n",
        "drive.mount('/content/gdrive')"
      ],
      "metadata": {
        "id": "8GkeyXnRAA_-",
        "outputId": "adb70fec-3c7a-4b33-b821-84f043b74aad",
        "colab": {
          "base_uri": "https://localhost:8080/"
        }
      },
      "execution_count": null,
      "outputs": [
        {
          "output_type": "stream",
          "name": "stdout",
          "text": [
            "Mounted at /content/gdrive\n"
          ]
        }
      ]
    },
    {
      "cell_type": "markdown",
      "metadata": {
        "id": "u1Ow-Eg4YHZA"
      },
      "source": [
        "# 2.&nbsp;Paths : CWD, Absolute vs Relative paths"
      ]
    },
    {
      "cell_type": "markdown",
      "source": [
        "## CWD: current working directory"
      ],
      "metadata": {
        "id": "lqaHbSJVl6_p"
      }
    },
    {
      "cell_type": "code",
      "execution_count": null,
      "metadata": {
        "id": "bbKBUTlTYHZB",
        "outputId": "924459fd-d662-45c3-c8cb-1659e9a0df4a",
        "colab": {
          "base_uri": "https://localhost:8080/",
          "height": 53
        }
      },
      "outputs": [
        {
          "output_type": "stream",
          "name": "stdout",
          "text": [
            "The current working directory is : \n"
          ]
        },
        {
          "output_type": "execute_result",
          "data": {
            "text/plain": [
              "'/content'"
            ],
            "application/vnd.google.colaboratory.intrinsic+json": {
              "type": "string"
            }
          },
          "metadata": {},
          "execution_count": 3
        }
      ],
      "source": [
        "# get absolute path to current working directory\n",
        "\n",
        "#os.chdir('/content')\n",
        "\n",
        "print('The current working directory is : ')\n",
        "os.getcwd() "
      ]
    },
    {
      "cell_type": "code",
      "source": [
        "# save current working directory as cwd\n",
        "cwd = os.getcwd()\n",
        "cwd"
      ],
      "metadata": {
        "id": "HOSQo6ofYZIi",
        "outputId": "f2473fb4-e221-4941-ea3c-f2d9ac53ae14",
        "colab": {
          "base_uri": "https://localhost:8080/",
          "height": 36
        }
      },
      "execution_count": null,
      "outputs": [
        {
          "output_type": "execute_result",
          "data": {
            "text/plain": [
              "'/content'"
            ],
            "application/vnd.google.colaboratory.intrinsic+json": {
              "type": "string"
            }
          },
          "metadata": {},
          "execution_count": 4
        }
      ]
    },
    {
      "cell_type": "code",
      "source": [
        "# List all files and directories in current directory\n",
        "\n",
        "os.listdir('.') #  ==> we have 3 directories : config, gdrive, sample_data and other files"
      ],
      "metadata": {
        "id": "YAud5pWJjR7D",
        "outputId": "6cd10e86-af89-4e84-cbd6-6a6bf3342dcb",
        "colab": {
          "base_uri": "https://localhost:8080/"
        }
      },
      "execution_count": null,
      "outputs": [
        {
          "output_type": "execute_result",
          "data": {
            "text/plain": [
              "['.config', 'gdrive', 'sample_data']"
            ]
          },
          "metadata": {},
          "execution_count": 5
        }
      ]
    },
    {
      "cell_type": "code",
      "source": [
        "# check conaining in sample_data directory\n",
        "\n",
        "print(os.listdir('sample_data'))"
      ],
      "metadata": {
        "id": "aRUp1uLfjgcx",
        "outputId": "5b0df4b6-8f43-476b-8f02-0756e4d628e0",
        "colab": {
          "base_uri": "https://localhost:8080/"
        }
      },
      "execution_count": null,
      "outputs": [
        {
          "output_type": "stream",
          "name": "stdout",
          "text": [
            "['anscombe.json', 'README.md', 'california_housing_test.csv', 'california_housing_train.csv', 'mnist_test.csv', 'mnist_train_small.csv']\n"
          ]
        }
      ]
    },
    {
      "cell_type": "markdown",
      "source": [
        "## Paths: Absolute & Relative"
      ],
      "metadata": {
        "id": "1NeODryrmHWC"
      }
    },
    {
      "cell_type": "markdown",
      "source": [
        "**Absolute file paths** are notated by a leading forward slash or drive label. For example, /home/example_user/example_directory or C:/system32/cmd.exe. An absolute file path describes how to access a given file or directory, starting from the root of the file system. A file path is also called a pathname.\n"
      ],
      "metadata": {
        "id": "JSOoWIiOk4Jw"
      }
    },
    {
      "cell_type": "code",
      "source": [
        "# check containing in gdrive directory with aboslute path\n",
        "\n",
        "print(os.listdir('/content/gdrive')) \n",
        "print(os.listdir('/content/gdrive/MyDrive'))\n",
        "print(os.listdir('/content/gdrive/MyDrive/Colab Notebooks'))"
      ],
      "metadata": {
        "id": "W1nieMycjfI6",
        "outputId": "89b57b41-4a36-4acf-823f-3704429cb97e",
        "colab": {
          "base_uri": "https://localhost:8080/"
        }
      },
      "execution_count": null,
      "outputs": [
        {
          "output_type": "stream",
          "name": "stdout",
          "text": [
            "['.file-revisions-by-id', 'MyDrive', '.shortcut-targets-by-id', '.Trash-0']\n",
            "['Getting started.pdf', 'Sigappi S_Sharepoint Developer_7.06 yrs_Resume.doc', 'Sigappi_Sharepoint Developer (1).docx', 'Sigappi_Sharepoint Developer.docx', 'Web and Systems Developer JD.gdoc', 'im218.jpg', 'Passport ', 'Colab Notebooks']\n",
            "['Test.ipynb', 'Copy of Test.ipynb', 'firstcode.ipynb', 'Practice_Python_Basics_Module_1.ipynb', 'Python_Basics_Module_1.ipynb', 'Practiseassignment Python_Basics_Module_1.ipynb', 'Practiseassign Python_Basics_Module_1.ipynb', 'Copy of Practiseassign_Python_Basics_Module_1 (3).ipynb', 'Copy of Practiseassign_Python_Basics_Module_1 (2).ipynb', 'Copy of Practiseassign_Python_Basics_Module_1 (1).ipynb', 'Copy of Practiseassign_Python_Basics_Module_1.ipynb', 'Files_Manipulation_Module_2.ipynb', 'Files_Manipulation_Collab-Sparrow_backup.ipynb']\n"
          ]
        }
      ]
    },
    {
      "cell_type": "markdown",
      "source": [
        "**Relative file paths** are notated by a lack of a leading forward slash. For example, example_directory. A relative file path is interpreted from the perspective your current working directory. If you use a relative file path from the wrong directory, then the path will refer to a different file than you intend, or it will refer to no file at all."
      ],
      "metadata": {
        "id": "ZkNB-oRjlG7U"
      }
    },
    {
      "cell_type": "code",
      "source": [
        "# check conaining in gdrive directory with relative path\n",
        "\n",
        "print(os.listdir('gdrive')) \n",
        "print(os.listdir('gdrive/MyDrive'))\n",
        "print(os.listdir('gdrive/MyDrive/Colab Notebooks'))"
      ],
      "metadata": {
        "id": "ZfOiSUfmkiKT",
        "outputId": "4e4c73f6-d2fd-49b7-dabd-48f23cd5a0e5",
        "colab": {
          "base_uri": "https://localhost:8080/"
        }
      },
      "execution_count": null,
      "outputs": [
        {
          "output_type": "stream",
          "name": "stdout",
          "text": [
            "['.file-revisions-by-id', 'MyDrive', '.shortcut-targets-by-id', '.Trash-0']\n",
            "['Getting started.pdf', 'Sigappi S_Sharepoint Developer_7.06 yrs_Resume.doc', 'Sigappi_Sharepoint Developer (1).docx', 'Sigappi_Sharepoint Developer.docx', 'Web and Systems Developer JD.gdoc', 'im218.jpg', 'Passport ', 'Colab Notebooks']\n",
            "['Test.ipynb', 'Copy of Test.ipynb', 'firstcode.ipynb', 'Practice_Python_Basics_Module_1.ipynb', 'Python_Basics_Module_1.ipynb', 'Practiseassignment Python_Basics_Module_1.ipynb', 'Practiseassign Python_Basics_Module_1.ipynb', 'Copy of Practiseassign_Python_Basics_Module_1 (3).ipynb', 'Copy of Practiseassign_Python_Basics_Module_1 (2).ipynb', 'Copy of Practiseassign_Python_Basics_Module_1 (1).ipynb', 'Copy of Practiseassign_Python_Basics_Module_1.ipynb', 'Files_Manipulation_Module_2.ipynb', 'Files_Manipulation_Collab-Sparrow_backup.ipynb']\n"
          ]
        }
      ]
    },
    {
      "cell_type": "code",
      "source": [
        "# delete a notebook from Colab Notebook ==> Name_Notebook.ipynb after '/content/gdrive/MyDrive/Colab Notebooks/ + Name_Notebook.ipynb'\n",
        "\n",
        "# os.unlink('/content/gdrive/MyDrive/Colab Notebooks/Copy of Fille_Manipulation_Module_2_Practice.ipynb') # relative path as UK_old in the working directory\n"
      ],
      "metadata": {
        "id": "PmCZ28V6jz21"
      },
      "execution_count": null,
      "outputs": []
    },
    {
      "cell_type": "markdown",
      "source": [
        "## Import files"
      ],
      "metadata": {
        "id": "YMsZrwvkmRWB"
      }
    },
    {
      "cell_type": "code",
      "source": [
        "# import files into google Colab\n",
        "from google.colab import files"
      ],
      "metadata": {
        "id": "vMtWKHrYDYdH"
      },
      "execution_count": null,
      "outputs": []
    },
    {
      "cell_type": "code",
      "source": [
        "# upload from your local : excel files \"DE.xlsx\", 'UK.xlsx\", 'FR.xlsx' and 'UK_old.xlsx'\n",
        "uploaded = files.upload()"
      ],
      "metadata": {
        "id": "_H0qa3TEP5n7",
        "outputId": "3275a4fa-d672-4476-bf77-089bcdad2b58",
        "colab": {
          "base_uri": "https://localhost:8080/",
          "height": 177
        }
      },
      "execution_count": null,
      "outputs": [
        {
          "output_type": "display_data",
          "data": {
            "text/plain": [
              "<IPython.core.display.HTML object>"
            ],
            "text/html": [
              "\n",
              "     <input type=\"file\" id=\"files-a7764f49-b3e3-452c-8a42-92b97325e2a0\" name=\"files[]\" multiple disabled\n",
              "        style=\"border:none\" />\n",
              "     <output id=\"result-a7764f49-b3e3-452c-8a42-92b97325e2a0\">\n",
              "      Upload widget is only available when the cell has been executed in the\n",
              "      current browser session. Please rerun this cell to enable.\n",
              "      </output>\n",
              "      <script>// Copyright 2017 Google LLC\n",
              "//\n",
              "// Licensed under the Apache License, Version 2.0 (the \"License\");\n",
              "// you may not use this file except in compliance with the License.\n",
              "// You may obtain a copy of the License at\n",
              "//\n",
              "//      http://www.apache.org/licenses/LICENSE-2.0\n",
              "//\n",
              "// Unless required by applicable law or agreed to in writing, software\n",
              "// distributed under the License is distributed on an \"AS IS\" BASIS,\n",
              "// WITHOUT WARRANTIES OR CONDITIONS OF ANY KIND, either express or implied.\n",
              "// See the License for the specific language governing permissions and\n",
              "// limitations under the License.\n",
              "\n",
              "/**\n",
              " * @fileoverview Helpers for google.colab Python module.\n",
              " */\n",
              "(function(scope) {\n",
              "function span(text, styleAttributes = {}) {\n",
              "  const element = document.createElement('span');\n",
              "  element.textContent = text;\n",
              "  for (const key of Object.keys(styleAttributes)) {\n",
              "    element.style[key] = styleAttributes[key];\n",
              "  }\n",
              "  return element;\n",
              "}\n",
              "\n",
              "// Max number of bytes which will be uploaded at a time.\n",
              "const MAX_PAYLOAD_SIZE = 100 * 1024;\n",
              "\n",
              "function _uploadFiles(inputId, outputId) {\n",
              "  const steps = uploadFilesStep(inputId, outputId);\n",
              "  const outputElement = document.getElementById(outputId);\n",
              "  // Cache steps on the outputElement to make it available for the next call\n",
              "  // to uploadFilesContinue from Python.\n",
              "  outputElement.steps = steps;\n",
              "\n",
              "  return _uploadFilesContinue(outputId);\n",
              "}\n",
              "\n",
              "// This is roughly an async generator (not supported in the browser yet),\n",
              "// where there are multiple asynchronous steps and the Python side is going\n",
              "// to poll for completion of each step.\n",
              "// This uses a Promise to block the python side on completion of each step,\n",
              "// then passes the result of the previous step as the input to the next step.\n",
              "function _uploadFilesContinue(outputId) {\n",
              "  const outputElement = document.getElementById(outputId);\n",
              "  const steps = outputElement.steps;\n",
              "\n",
              "  const next = steps.next(outputElement.lastPromiseValue);\n",
              "  return Promise.resolve(next.value.promise).then((value) => {\n",
              "    // Cache the last promise value to make it available to the next\n",
              "    // step of the generator.\n",
              "    outputElement.lastPromiseValue = value;\n",
              "    return next.value.response;\n",
              "  });\n",
              "}\n",
              "\n",
              "/**\n",
              " * Generator function which is called between each async step of the upload\n",
              " * process.\n",
              " * @param {string} inputId Element ID of the input file picker element.\n",
              " * @param {string} outputId Element ID of the output display.\n",
              " * @return {!Iterable<!Object>} Iterable of next steps.\n",
              " */\n",
              "function* uploadFilesStep(inputId, outputId) {\n",
              "  const inputElement = document.getElementById(inputId);\n",
              "  inputElement.disabled = false;\n",
              "\n",
              "  const outputElement = document.getElementById(outputId);\n",
              "  outputElement.innerHTML = '';\n",
              "\n",
              "  const pickedPromise = new Promise((resolve) => {\n",
              "    inputElement.addEventListener('change', (e) => {\n",
              "      resolve(e.target.files);\n",
              "    });\n",
              "  });\n",
              "\n",
              "  const cancel = document.createElement('button');\n",
              "  inputElement.parentElement.appendChild(cancel);\n",
              "  cancel.textContent = 'Cancel upload';\n",
              "  const cancelPromise = new Promise((resolve) => {\n",
              "    cancel.onclick = () => {\n",
              "      resolve(null);\n",
              "    };\n",
              "  });\n",
              "\n",
              "  // Wait for the user to pick the files.\n",
              "  const files = yield {\n",
              "    promise: Promise.race([pickedPromise, cancelPromise]),\n",
              "    response: {\n",
              "      action: 'starting',\n",
              "    }\n",
              "  };\n",
              "\n",
              "  cancel.remove();\n",
              "\n",
              "  // Disable the input element since further picks are not allowed.\n",
              "  inputElement.disabled = true;\n",
              "\n",
              "  if (!files) {\n",
              "    return {\n",
              "      response: {\n",
              "        action: 'complete',\n",
              "      }\n",
              "    };\n",
              "  }\n",
              "\n",
              "  for (const file of files) {\n",
              "    const li = document.createElement('li');\n",
              "    li.append(span(file.name, {fontWeight: 'bold'}));\n",
              "    li.append(span(\n",
              "        `(${file.type || 'n/a'}) - ${file.size} bytes, ` +\n",
              "        `last modified: ${\n",
              "            file.lastModifiedDate ? file.lastModifiedDate.toLocaleDateString() :\n",
              "                                    'n/a'} - `));\n",
              "    const percent = span('0% done');\n",
              "    li.appendChild(percent);\n",
              "\n",
              "    outputElement.appendChild(li);\n",
              "\n",
              "    const fileDataPromise = new Promise((resolve) => {\n",
              "      const reader = new FileReader();\n",
              "      reader.onload = (e) => {\n",
              "        resolve(e.target.result);\n",
              "      };\n",
              "      reader.readAsArrayBuffer(file);\n",
              "    });\n",
              "    // Wait for the data to be ready.\n",
              "    let fileData = yield {\n",
              "      promise: fileDataPromise,\n",
              "      response: {\n",
              "        action: 'continue',\n",
              "      }\n",
              "    };\n",
              "\n",
              "    // Use a chunked sending to avoid message size limits. See b/62115660.\n",
              "    let position = 0;\n",
              "    do {\n",
              "      const length = Math.min(fileData.byteLength - position, MAX_PAYLOAD_SIZE);\n",
              "      const chunk = new Uint8Array(fileData, position, length);\n",
              "      position += length;\n",
              "\n",
              "      const base64 = btoa(String.fromCharCode.apply(null, chunk));\n",
              "      yield {\n",
              "        response: {\n",
              "          action: 'append',\n",
              "          file: file.name,\n",
              "          data: base64,\n",
              "        },\n",
              "      };\n",
              "\n",
              "      let percentDone = fileData.byteLength === 0 ?\n",
              "          100 :\n",
              "          Math.round((position / fileData.byteLength) * 100);\n",
              "      percent.textContent = `${percentDone}% done`;\n",
              "\n",
              "    } while (position < fileData.byteLength);\n",
              "  }\n",
              "\n",
              "  // All done.\n",
              "  yield {\n",
              "    response: {\n",
              "      action: 'complete',\n",
              "    }\n",
              "  };\n",
              "}\n",
              "\n",
              "scope.google = scope.google || {};\n",
              "scope.google.colab = scope.google.colab || {};\n",
              "scope.google.colab._files = {\n",
              "  _uploadFiles,\n",
              "  _uploadFilesContinue,\n",
              "};\n",
              "})(self);\n",
              "</script> "
            ]
          },
          "metadata": {}
        },
        {
          "output_type": "stream",
          "name": "stdout",
          "text": [
            "Saving DE.xlsx to DE.xlsx\n",
            "Saving FR.xlsx to FR.xlsx\n",
            "Saving UK.xlsx to UK.xlsx\n",
            "Saving UK_old.xlsx to UK_old.xlsx\n"
          ]
        }
      ]
    },
    {
      "cell_type": "code",
      "source": [
        "# List all files and directories in current directory\n",
        "os.listdir('.')"
      ],
      "metadata": {
        "id": "G-CfZN5wYvew",
        "outputId": "84cdf7ae-21d0-4657-ca50-a2b77144f8cc",
        "colab": {
          "base_uri": "https://localhost:8080/"
        }
      },
      "execution_count": null,
      "outputs": [
        {
          "output_type": "execute_result",
          "data": {
            "text/plain": [
              "['.config',\n",
              " 'DE.xlsx',\n",
              " 'UK.xlsx',\n",
              " 'gdrive',\n",
              " 'FR.xlsx',\n",
              " 'UK_old.xlsx',\n",
              " 'sample_data']"
            ]
          },
          "metadata": {},
          "execution_count": 11
        }
      ]
    },
    {
      "cell_type": "markdown",
      "metadata": {
        "id": "bPlad8w9_dfJ"
      },
      "source": [
        "# 3.&nbsp;Folder hierarchy tree"
      ]
    },
    {
      "cell_type": "code",
      "source": [
        "# delete files\n",
        "\n",
        "#os.unlink('New_Folder')"
      ],
      "metadata": {
        "id": "AF9Mu1YK7v-z"
      },
      "execution_count": null,
      "outputs": []
    },
    {
      "cell_type": "code",
      "execution_count": null,
      "metadata": {
        "id": "74BL7BcF_dfK",
        "outputId": "bae7ccac-e75b-4a4a-dee5-9dffbe1da25b",
        "colab": {
          "base_uri": "https://localhost:8080/"
        }
      },
      "outputs": [
        {
          "output_type": "stream",
          "name": "stdout",
          "text": [
            "| ---- > content :\n",
            "| ------------ DE.xlsx\n",
            "| ------------ UK.xlsx\n",
            "| ------------ FR.xlsx\n",
            "| ------------ UK_old.xlsx\n",
            "| ------ > .config :\n",
            "| ------------------ active_config\n",
            "| ------------------ .last_opt_in_prompt.yaml\n",
            "| ------------------ .last_survey_prompt.yaml\n",
            "| ------------------ .last_update_check.json\n",
            "| ------------------ gce\n",
            "| ------------------ config_sentinel\n",
            "| -------- > configurations :\n",
            "| ------------------------ config_default\n",
            "| -------- > logs :\n",
            "| ---------- > 2023.02.09 :\n",
            "| ------------------------------ 00.00.56.519297.log\n",
            "| ------------------------------ 00.01.51.378393.log\n",
            "| ------------------------------ 00.02.16.185644.log\n",
            "| ------------------------------ 00.02.15.490980.log\n",
            "| ------------------------------ 00.01.43.663040.log\n",
            "| ------------------------------ 00.01.20.713691.log\n",
            "| ------ > gdrive :\n",
            "| -------- > .file-revisions-by-id :\n",
            "| -------- > MyDrive :\n",
            "| ------------------------ Getting started.pdf\n",
            "| ------------------------ Sigappi S_Sharepoint Developer_7.06 yrs_Resume.doc\n",
            "| ------------------------ Sigappi_Sharepoint Developer (1).docx\n",
            "| ------------------------ Sigappi_Sharepoint Developer.docx\n",
            "| ------------------------ Web and Systems Developer JD.gdoc\n",
            "| ------------------------ im218.jpg\n",
            "| ---------- > Passport  :\n",
            "| ------------------------------ Passport.pdf\n",
            "| ------------------------------ Coronavirus (COVID-19) records.pdf\n",
            "| ------------------------------ COVID pass 3 vaccinations.pdf\n",
            "| ------------------------------ NHS nerve stimulation.pdf\n",
            "| ------------ > 11+ :\n",
            "| ------------------------------------ Chepstow-House-Year-4-Suggested-Reading-List.pdf\n",
            "| ------------ > Income tax india :\n",
            "| ------------------------------------ BZCPS3518P_Issue Letter_1045106998(1)_01092022.pdf\n",
            "| ---------- > Colab Notebooks :\n",
            "| ------------------------------ Test.ipynb\n",
            "| ------------------------------ Copy of Test.ipynb\n",
            "| ------------------------------ firstcode.ipynb\n",
            "| ------------------------------ Practice_Python_Basics_Module_1.ipynb\n",
            "| ------------------------------ Python_Basics_Module_1.ipynb\n",
            "| ------------------------------ Practiseassignment Python_Basics_Module_1.ipynb\n",
            "| ------------------------------ Practiseassign Python_Basics_Module_1.ipynb\n",
            "| ------------------------------ Copy of Practiseassign_Python_Basics_Module_1 (3).ipynb\n",
            "| ------------------------------ Copy of Practiseassign_Python_Basics_Module_1 (2).ipynb\n",
            "| ------------------------------ Copy of Practiseassign_Python_Basics_Module_1 (1).ipynb\n",
            "| ------------------------------ Copy of Practiseassign_Python_Basics_Module_1.ipynb\n",
            "| ------------------------------ Files_Manipulation_Module_2.ipynb\n",
            "| ------------------------------ Files_Manipulation_Collab-Sparrow_backup.ipynb\n",
            "| -------- > .shortcut-targets-by-id :\n",
            "| -------- > .Trash-0 :\n",
            "| ---------- > files :\n",
            "| ---------- > info :\n",
            "| ------ > sample_data :\n",
            "| ------------------ anscombe.json\n",
            "| ------------------ README.md\n",
            "| ------------------ california_housing_test.csv\n",
            "| ------------------ california_housing_train.csv\n",
            "| ------------------ mnist_test.csv\n",
            "| ------------------ mnist_train_small.csv\n"
          ]
        }
      ],
      "source": [
        "# create a function << folder tree >> to display the the hierarchy of your cwd\n",
        "\n",
        "def folder_tree(folder):\n",
        "    for dirpath, dirs, files in os.walk(cwd):\t \n",
        "        if 'checkpoints' not in dirpath:\n",
        "                path = dirpath.split('/')     \n",
        "                print ('|', (len(path))*'--', '>',os.path.basename(dirpath),':')\n",
        "                for f in files:\n",
        "                    print ('|', len(path)*'------', f)\n",
        "                    \n",
        "\n",
        "# call function folder_tree on your cwd\n",
        "\n",
        "folder_tree(cwd)  "
      ]
    },
    {
      "cell_type": "code",
      "source": [
        "# another way to explore your folder/files \n",
        "# create function << folder_tree_2 >>\n",
        "\n",
        "\n",
        "def folder_tree_2(folder):\n",
        "    for dirPath, dirNames, fileNames in os.walk(cwd, topdown=True):\n",
        "        if 'checkpoints' not in dirPath:\n",
        "            print(\"Directory Path: \", dirPath) \n",
        "            print(len(dirNames), \"Directories = \", dirNames )\n",
        "            print(len(fileNames), \"Files = \", fileNames )\n",
        "            print('-'*10)\n",
        "\n",
        "            \n",
        "\n",
        "# call function << folder_tree_2 >> on your cwd\n",
        "# it will return all Directory Paths with contained sub_directories and files\n",
        "# nb of sub_directories and files\n",
        "\n",
        "folder_tree_2(cwd)"
      ],
      "metadata": {
        "id": "knqRLZQ-Zavw",
        "outputId": "99e87db6-f863-40b4-a094-c55eb8d29326",
        "colab": {
          "base_uri": "https://localhost:8080/"
        }
      },
      "execution_count": null,
      "outputs": [
        {
          "output_type": "stream",
          "name": "stdout",
          "text": [
            "Directory Path:  /content\n",
            "3 Directories =  ['.config', 'gdrive', 'sample_data']\n",
            "4 Files =  ['DE.xlsx', 'UK.xlsx', 'FR.xlsx', 'UK_old.xlsx']\n",
            "----------\n",
            "Directory Path:  /content/.config\n",
            "2 Directories =  ['configurations', 'logs']\n",
            "6 Files =  ['active_config', '.last_opt_in_prompt.yaml', '.last_survey_prompt.yaml', '.last_update_check.json', 'gce', 'config_sentinel']\n",
            "----------\n",
            "Directory Path:  /content/.config/configurations\n",
            "0 Directories =  []\n",
            "1 Files =  ['config_default']\n",
            "----------\n",
            "Directory Path:  /content/.config/logs\n",
            "1 Directories =  ['2023.02.09']\n",
            "0 Files =  []\n",
            "----------\n",
            "Directory Path:  /content/.config/logs/2023.02.09\n",
            "0 Directories =  []\n",
            "6 Files =  ['00.00.56.519297.log', '00.01.51.378393.log', '00.02.16.185644.log', '00.02.15.490980.log', '00.01.43.663040.log', '00.01.20.713691.log']\n",
            "----------\n",
            "Directory Path:  /content/gdrive\n",
            "4 Directories =  ['.file-revisions-by-id', 'MyDrive', '.shortcut-targets-by-id', '.Trash-0']\n",
            "0 Files =  []\n",
            "----------\n",
            "Directory Path:  /content/gdrive/.file-revisions-by-id\n",
            "0 Directories =  []\n",
            "0 Files =  []\n",
            "----------\n",
            "Directory Path:  /content/gdrive/MyDrive\n",
            "2 Directories =  ['Passport ', 'Colab Notebooks']\n",
            "6 Files =  ['Getting started.pdf', 'Sigappi S_Sharepoint Developer_7.06 yrs_Resume.doc', 'Sigappi_Sharepoint Developer (1).docx', 'Sigappi_Sharepoint Developer.docx', 'Web and Systems Developer JD.gdoc', 'im218.jpg']\n",
            "----------\n",
            "Directory Path:  /content/gdrive/MyDrive/Passport \n",
            "2 Directories =  ['11+', 'Income tax india']\n",
            "4 Files =  ['Passport.pdf', 'Coronavirus (COVID-19) records.pdf', 'COVID pass 3 vaccinations.pdf', 'NHS nerve stimulation.pdf']\n",
            "----------\n",
            "Directory Path:  /content/gdrive/MyDrive/Passport /11+\n",
            "0 Directories =  []\n",
            "1 Files =  ['Chepstow-House-Year-4-Suggested-Reading-List.pdf']\n",
            "----------\n",
            "Directory Path:  /content/gdrive/MyDrive/Passport /Income tax india\n",
            "0 Directories =  []\n",
            "1 Files =  ['BZCPS3518P_Issue Letter_1045106998(1)_01092022.pdf']\n",
            "----------\n",
            "Directory Path:  /content/gdrive/MyDrive/Colab Notebooks\n",
            "0 Directories =  []\n",
            "13 Files =  ['Test.ipynb', 'Copy of Test.ipynb', 'firstcode.ipynb', 'Practice_Python_Basics_Module_1.ipynb', 'Python_Basics_Module_1.ipynb', 'Practiseassignment Python_Basics_Module_1.ipynb', 'Practiseassign Python_Basics_Module_1.ipynb', 'Copy of Practiseassign_Python_Basics_Module_1 (3).ipynb', 'Copy of Practiseassign_Python_Basics_Module_1 (2).ipynb', 'Copy of Practiseassign_Python_Basics_Module_1 (1).ipynb', 'Copy of Practiseassign_Python_Basics_Module_1.ipynb', 'Files_Manipulation_Module_2.ipynb', 'Files_Manipulation_Collab-Sparrow_backup.ipynb']\n",
            "----------\n",
            "Directory Path:  /content/gdrive/.shortcut-targets-by-id\n",
            "0 Directories =  []\n",
            "0 Files =  []\n",
            "----------\n",
            "Directory Path:  /content/gdrive/.Trash-0\n",
            "2 Directories =  ['files', 'info']\n",
            "0 Files =  []\n",
            "----------\n",
            "Directory Path:  /content/gdrive/.Trash-0/files\n",
            "0 Directories =  []\n",
            "0 Files =  []\n",
            "----------\n",
            "Directory Path:  /content/gdrive/.Trash-0/info\n",
            "0 Directories =  []\n",
            "0 Files =  []\n",
            "----------\n",
            "Directory Path:  /content/sample_data\n",
            "0 Directories =  []\n",
            "6 Files =  ['anscombe.json', 'README.md', 'california_housing_test.csv', 'california_housing_train.csv', 'mnist_test.csv', 'mnist_train_small.csv']\n",
            "----------\n"
          ]
        }
      ]
    },
    {
      "cell_type": "markdown",
      "source": [
        "# 4.&nbsp;Looking for Files with extensions"
      ],
      "metadata": {
        "id": "FCmGQXHAsiwd"
      }
    },
    {
      "cell_type": "code",
      "execution_count": null,
      "metadata": {
        "id": "pOhA88_hwXk7",
        "outputId": "73fa8b93-2890-469d-c4d9-efdaefeaeaa7",
        "colab": {
          "base_uri": "https://localhost:8080/"
        }
      },
      "outputs": [
        {
          "output_type": "stream",
          "name": "stdout",
          "text": [
            "there are 4 excel files: \n"
          ]
        },
        {
          "output_type": "execute_result",
          "data": {
            "text/plain": [
              "['DE.xlsx', 'UK.xlsx', 'FR.xlsx', 'UK_old.xlsx']"
            ]
          },
          "metadata": {},
          "execution_count": 14
        }
      ],
      "source": [
        "# create a list  \"excel_files\" with all files that have the extension excel_files in the working directory\n",
        "\n",
        "excel_files=[]\n",
        "for file in os.listdir(cwd):\n",
        "    if file.endswith('.xlsx'): # or '.csv' if your'looinkg for csv files\n",
        "            excel_files.append(file)\n",
        "            \n",
        "# it will print out excel names present in current directory folder = 'Basics_Python\"\n",
        "print( 'there are', len(excel_files), \"excel files: \")\n",
        "excel_files"
      ]
    },
    {
      "cell_type": "code",
      "execution_count": null,
      "metadata": {
        "id": "T9-EafJPwlNw",
        "outputId": "eb532fac-e6e9-49fd-aa3c-807073106949",
        "colab": {
          "base_uri": "https://localhost:8080/"
        }
      },
      "outputs": [
        {
          "output_type": "stream",
          "name": "stdout",
          "text": [
            "['/content/DE.xlsx', '/content/UK.xlsx', '/content/FR.xlsx', '/content/UK_old.xlsx']\n",
            "\n",
            "File names with their paths:\n",
            "/content/DE.xlsx\n",
            "/content/UK.xlsx\n",
            "/content/FR.xlsx\n",
            "/content/UK_old.xlsx\n"
          ]
        }
      ],
      "source": [
        "# check the absolute path of all excel files\n",
        "\n",
        "# we'll use \"glob\" package that works with file paths\n",
        "# glob package is usefull to return all file paths that match a specific pattern\n",
        "\n",
        "# create a list where are stored the paths of every excel file\n",
        "\n",
        "# in the working directory here stored in the variable cwd... \n",
        "# find all files that have the extension .xlsx ...\n",
        "# and then concatenate the working directory path + excel file name ...\n",
        "# we will obtain the absolute path to each excel file ...\n",
        "# and then store them all into a list called \"filespaths\"\n",
        "\n",
        "\n",
        "filespaths = glob.glob(cwd + \"/*.xlsx\")  # create a list that from cwd, will pick up every the ABSOLUTE PATH for files with extention .xlsx\n",
        "print(filespaths)\n",
        "print(\"\")\n",
        "\n",
        "# print out excel paths one by one\n",
        "print('File names with their paths:')\n",
        "for path in filespaths:\n",
        "    print(path)"
      ]
    },
    {
      "cell_type": "markdown",
      "metadata": {
        "id": "cVcMXwSp_dfS"
      },
      "source": [
        "# 4.&nbsp;Change working directory"
      ]
    },
    {
      "cell_type": "code",
      "source": [
        "# if you want to change the current working directory (cwd) \n",
        "\n",
        "# change cwd to folder MyDrive (that is in directory content/gdrive)\n",
        "os.chdir('/content/gdrive/MyDrive')\n",
        "# check the new current working directory now\n",
        "cwd = os.getcwd()\n",
        "cwd"
      ],
      "metadata": {
        "id": "XQ-pL1_8XKud",
        "outputId": "bcdacee2-e5fe-4cf8-e03a-aaac5bc26f81",
        "colab": {
          "base_uri": "https://localhost:8080/",
          "height": 36
        }
      },
      "execution_count": null,
      "outputs": [
        {
          "output_type": "execute_result",
          "data": {
            "text/plain": [
              "'/content/gdrive/MyDrive'"
            ],
            "application/vnd.google.colaboratory.intrinsic+json": {
              "type": "string"
            }
          },
          "metadata": {},
          "execution_count": 16
        }
      ]
    },
    {
      "cell_type": "code",
      "source": [
        "# List all files and directories in the new current directory << MyDrive >>\n",
        "os.listdir('.')"
      ],
      "metadata": {
        "id": "WJW-tAbOXabC",
        "outputId": "7c6cf45a-13b4-45a4-f166-3e7f91f6c737",
        "colab": {
          "base_uri": "https://localhost:8080/"
        }
      },
      "execution_count": null,
      "outputs": [
        {
          "output_type": "execute_result",
          "data": {
            "text/plain": [
              "['Getting started.pdf',\n",
              " 'Sigappi S_Sharepoint Developer_7.06 yrs_Resume.doc',\n",
              " 'Sigappi_Sharepoint Developer (1).docx',\n",
              " 'Sigappi_Sharepoint Developer.docx',\n",
              " 'Web and Systems Developer JD.gdoc',\n",
              " 'im218.jpg',\n",
              " 'Passport ',\n",
              " 'Colab Notebooks']"
            ]
          },
          "metadata": {},
          "execution_count": 17
        }
      ]
    },
    {
      "cell_type": "markdown",
      "metadata": {
        "id": "klW5vu46w_Kj"
      },
      "source": [
        "# 5.&nbsp;Manipulate Directories"
      ]
    },
    {
      "cell_type": "markdown",
      "source": [
        "## Create a new folder"
      ],
      "metadata": {
        "id": "PVVj46wU1IDj"
      }
    },
    {
      "cell_type": "code",
      "execution_count": null,
      "metadata": {
        "id": "bFIMYI_UxCJ2",
        "outputId": "9f094768-3263-482f-c0fb-d39c44e0c677",
        "colab": {
          "base_uri": "https://localhost:8080/"
        }
      },
      "outputs": [
        {
          "output_type": "stream",
          "name": "stdout",
          "text": [
            "/content/gdrive/MyDrive/Raw_Files\n"
          ]
        }
      ],
      "source": [
        "# create a new folder called \"Raw_Files\"\n",
        "\n",
        "# First: \n",
        "# write the path to the \"Raw_Files\" sub_directory\n",
        "folder = cwd + '/' + 'Raw_Files' # == > /content/gdrive/MyDrive/Raw_Files\n",
        "print(folder)\n",
        "\n",
        "# Second:\n",
        "# create the folder at the indicated path\n",
        "os.makedirs(folder) # create an empty folder called << Raw_Files >>"
      ]
    },
    {
      "cell_type": "code",
      "source": [
        "# now check the sub_directories in cwd with os.listdir()\n",
        "\n",
        "os.listdir('.')"
      ],
      "metadata": {
        "id": "WYSDSulCyvEm",
        "outputId": "852224dc-1e37-42ed-fb58-d5aad678a736",
        "colab": {
          "base_uri": "https://localhost:8080/"
        }
      },
      "execution_count": null,
      "outputs": [
        {
          "output_type": "execute_result",
          "data": {
            "text/plain": [
              "['Getting started.pdf',\n",
              " 'Sigappi S_Sharepoint Developer_7.06 yrs_Resume.doc',\n",
              " 'Sigappi_Sharepoint Developer (1).docx',\n",
              " 'Sigappi_Sharepoint Developer.docx',\n",
              " 'Web and Systems Developer JD.gdoc',\n",
              " 'im218.jpg',\n",
              " 'Passport ',\n",
              " 'Colab Notebooks',\n",
              " 'Raw_Files']"
            ]
          },
          "metadata": {},
          "execution_count": 19
        }
      ]
    },
    {
      "cell_type": "markdown",
      "source": [
        "## Rename Folders"
      ],
      "metadata": {
        "id": "C1Umqr6K1P12"
      }
    },
    {
      "cell_type": "code",
      "execution_count": null,
      "metadata": {
        "id": "MoC3H5lP_dfI",
        "outputId": "e828b73d-f1ab-4be4-c86a-f0ce9db4f548",
        "colab": {
          "base_uri": "https://localhost:8080/"
        }
      },
      "outputs": [
        {
          "output_type": "execute_result",
          "data": {
            "text/plain": [
              "['Getting started.pdf',\n",
              " 'Sigappi S_Sharepoint Developer_7.06 yrs_Resume.doc',\n",
              " 'Sigappi_Sharepoint Developer (1).docx',\n",
              " 'Sigappi_Sharepoint Developer.docx',\n",
              " 'Web and Systems Developer JD.gdoc',\n",
              " 'im218.jpg',\n",
              " 'Passport ',\n",
              " 'Colab Notebooks',\n",
              " 'Raw_Excel_Files']"
            ]
          },
          "metadata": {},
          "execution_count": 20
        }
      ],
      "source": [
        "# rename folder <<Raw_Files>> in  <<Raw_Excel_Files folder>>\n",
        "\n",
        "new_name= 'Raw_Excel_Files' # variable containing the new name value\n",
        "\n",
        "os.rename(folder, new_name) # it will rename \"Raw_Files\" into 'Raw_Excel_Files'\n",
        "\n",
        "# now check the sub_directories in cwd with os.listdir()\n",
        "\n",
        "os.listdir('.')"
      ]
    },
    {
      "cell_type": "markdown",
      "source": [
        "## Nested Folders"
      ],
      "metadata": {
        "id": "DAPHBheo1VPS"
      }
    },
    {
      "cell_type": "code",
      "execution_count": null,
      "metadata": {
        "id": "_Oq-PpDbxE-t",
        "outputId": "0a8389f8-e490-420c-97b8-21c510243e42",
        "colab": {
          "base_uri": "https://localhost:8080/",
          "height": 36
        }
      },
      "outputs": [
        {
          "output_type": "execute_result",
          "data": {
            "text/plain": [
              "'/content/gdrive/MyDrive/New_Folder/Inner_folder'"
            ],
            "application/vnd.google.colaboratory.intrinsic+json": {
              "type": "string"
            }
          },
          "metadata": {},
          "execution_count": 21
        }
      ],
      "source": [
        "# Create a nested folder (folder in the folder)\n",
        "\n",
        "other = cwd + '/' + 'New_Folder' + '/' +'Inner_folder' \n",
        "os.makedirs(other)\n",
        "other # the folder \"New_Folder\" will contain another empty folder \"Inner Folder\""
      ]
    },
    {
      "cell_type": "code",
      "source": [
        "# now check the sub_directories in cwd with os.listdir()\n",
        "\n",
        "os.listdir('.')"
      ],
      "metadata": {
        "id": "08SG9wSL1eIW",
        "outputId": "0e9ea05e-25d6-497e-8a66-c0baa07d6b26",
        "colab": {
          "base_uri": "https://localhost:8080/"
        }
      },
      "execution_count": null,
      "outputs": [
        {
          "output_type": "execute_result",
          "data": {
            "text/plain": [
              "['Getting started.pdf',\n",
              " 'Sigappi S_Sharepoint Developer_7.06 yrs_Resume.doc',\n",
              " 'Sigappi_Sharepoint Developer (1).docx',\n",
              " 'Sigappi_Sharepoint Developer.docx',\n",
              " 'Web and Systems Developer JD.gdoc',\n",
              " 'im218.jpg',\n",
              " 'Passport ',\n",
              " 'Colab Notebooks',\n",
              " 'Raw_Excel_Files',\n",
              " 'New_Folder']"
            ]
          },
          "metadata": {},
          "execution_count": 22
        }
      ]
    },
    {
      "cell_type": "markdown",
      "metadata": {
        "id": "pt37qb5y_dfL"
      },
      "source": [
        "## Navigate in tree hierarchy"
      ]
    },
    {
      "cell_type": "code",
      "execution_count": null,
      "metadata": {
        "id": "tPrUfZ8d_dfM",
        "outputId": "92bf29e7-7e88-434c-86de-483a379559bf",
        "colab": {
          "base_uri": "https://localhost:8080/"
        }
      },
      "outputs": [
        {
          "output_type": "execute_result",
          "data": {
            "text/plain": [
              "['Getting started.pdf',\n",
              " 'Sigappi S_Sharepoint Developer_7.06 yrs_Resume.doc',\n",
              " 'Sigappi_Sharepoint Developer (1).docx',\n",
              " 'Sigappi_Sharepoint Developer.docx',\n",
              " 'Web and Systems Developer JD.gdoc',\n",
              " 'im218.jpg',\n",
              " 'Passport ',\n",
              " 'Colab Notebooks',\n",
              " 'Raw_Excel_Files',\n",
              " 'New_Folder']"
            ]
          },
          "metadata": {},
          "execution_count": 23
        }
      ],
      "source": [
        "# list all files in the current directoy\n",
        "\n",
        "os.listdir('.')"
      ]
    },
    {
      "cell_type": "code",
      "execution_count": null,
      "metadata": {
        "id": "sd5ghfUK_dfM",
        "outputId": "ed51d520-b624-4b69-a943-1911d31d11a7",
        "colab": {
          "base_uri": "https://localhost:8080/"
        }
      },
      "outputs": [
        {
          "output_type": "execute_result",
          "data": {
            "text/plain": [
              "['.file-revisions-by-id', 'MyDrive', '.shortcut-targets-by-id', '.Trash-0']"
            ]
          },
          "metadata": {},
          "execution_count": 24
        }
      ],
      "source": [
        "# move up in the hierarchy to list the files from the upper level \n",
        "\n",
        "os.listdir('..')"
      ]
    },
    {
      "cell_type": "code",
      "execution_count": null,
      "metadata": {
        "id": "kw2WlP2e_dfN",
        "outputId": "c5f4c3a5-b611-4f82-80ba-90abf1cea2fb",
        "colab": {
          "base_uri": "https://localhost:8080/"
        }
      },
      "outputs": [
        {
          "output_type": "stream",
          "name": "stdout",
          "text": [
            "['Inner_folder']\n"
          ]
        }
      ],
      "source": [
        "# list files inside a specific folder (get children)\n",
        "\n",
        "print (os.listdir('New_Folder'))\n"
      ]
    },
    {
      "cell_type": "code",
      "execution_count": null,
      "metadata": {
        "id": "pImwa3TA_dfN",
        "outputId": "d73ba82c-bf42-4553-a640-4a5501159629",
        "colab": {
          "base_uri": "https://localhost:8080/"
        }
      },
      "outputs": [
        {
          "output_type": "stream",
          "name": "stdout",
          "text": [
            "/content/gdrive/MyDrive\n"
          ]
        }
      ],
      "source": [
        "# get parent of a scpecific folder (go back with 1 level)\n",
        "\n",
        "# save path to New_FOlder\n",
        "new_folder = '/content/gdrive/MyDrive/New_Folder' \n",
        "\n",
        "# prit parent of Inner_Folder\n",
        "print(Path(new_folder).parents[0])\n"
      ]
    },
    {
      "cell_type": "code",
      "execution_count": null,
      "metadata": {
        "id": "yHEx2ok__dfO",
        "outputId": "ebd6d2ea-cec6-4ba2-a19f-18993e7c9b61",
        "colab": {
          "base_uri": "https://localhost:8080/"
        }
      },
      "outputs": [
        {
          "output_type": "stream",
          "name": "stdout",
          "text": [
            "/content/gdrive\n"
          ]
        }
      ],
      "source": [
        "# get grand parent of a scpecific folder (go back with 2 levels)\n",
        "\n",
        "print(Path(new_folder).parents[1])\n"
      ]
    },
    {
      "cell_type": "markdown",
      "source": [
        "## Paths to the folders"
      ],
      "metadata": {
        "id": "bgTrGUaYFzMk"
      }
    },
    {
      "cell_type": "code",
      "source": [
        "# Find Paths\n",
        "\n",
        "# relative path ==> only the final file name\n",
        "print('Relative path of file:     ', os.path.relpath('Raw_Excel_Files') )\n",
        "\n",
        "# Absolute directoryname ==> the path up to the up_directories (parents)\n",
        "print('Absolute directoryname: ',  os.path.dirname(os.path.abspath('Raw_Excel_Files')))\n",
        "\n",
        "# Absolute path ==> the whole path with the file name included\n",
        "print('Absolute path of file:     ',  os.path.abspath('Raw_Excel_Files'))\n"
      ],
      "metadata": {
        "id": "P8uJTXfcCFI4",
        "outputId": "6bef1db1-4154-4c10-e845-931cdcbac6ef",
        "colab": {
          "base_uri": "https://localhost:8080/"
        }
      },
      "execution_count": null,
      "outputs": [
        {
          "output_type": "stream",
          "name": "stdout",
          "text": [
            "Relative path of file:      Raw_Excel_Files\n",
            "Absolute directoryname:  /content/gdrive/MyDrive\n",
            "Absolute path of file:      /content/gdrive/MyDrive/Raw_Excel_Files\n"
          ]
        }
      ]
    },
    {
      "cell_type": "markdown",
      "metadata": {
        "id": "Jgviz2daz65q"
      },
      "source": [
        "# 6.&nbsp;Copy File\n"
      ]
    },
    {
      "cell_type": "code",
      "source": [
        "# reminder of containing in cwd: MyDrive\n",
        "\n",
        "os.listdir('.')"
      ],
      "metadata": {
        "id": "IMcy5Fj_5qXR",
        "outputId": "78bd89cc-fc5e-416a-8dd5-2362ad266f16",
        "colab": {
          "base_uri": "https://localhost:8080/"
        }
      },
      "execution_count": null,
      "outputs": [
        {
          "output_type": "execute_result",
          "data": {
            "text/plain": [
              "['Getting started.pdf',\n",
              " 'Sigappi S_Sharepoint Developer_7.06 yrs_Resume.doc',\n",
              " 'Sigappi_Sharepoint Developer (1).docx',\n",
              " 'Sigappi_Sharepoint Developer.docx',\n",
              " 'Web and Systems Developer JD.gdoc',\n",
              " 'im218.jpg',\n",
              " 'Passport ',\n",
              " 'Colab Notebooks',\n",
              " 'Raw_Excel_Files',\n",
              " 'New_Folder']"
            ]
          },
          "metadata": {},
          "execution_count": 29
        }
      ]
    },
    {
      "cell_type": "code",
      "source": [
        "# reminder of containing in content directory\n",
        "\n",
        "os.listdir('/content')"
      ],
      "metadata": {
        "id": "AWkt3KmYJNoz",
        "outputId": "c6f03fa3-dc21-4fc8-956b-1f9651cefb2a",
        "colab": {
          "base_uri": "https://localhost:8080/"
        }
      },
      "execution_count": null,
      "outputs": [
        {
          "output_type": "execute_result",
          "data": {
            "text/plain": [
              "['.config',\n",
              " 'DE.xlsx',\n",
              " 'UK.xlsx',\n",
              " 'gdrive',\n",
              " 'FR.xlsx',\n",
              " 'UK_old.xlsx',\n",
              " 'sample_data']"
            ]
          },
          "metadata": {},
          "execution_count": 30
        }
      ]
    },
    {
      "cell_type": "markdown",
      "source": [
        "## Copy a single file"
      ],
      "metadata": {
        "id": "r0RDXm1dKgH2"
      }
    },
    {
      "cell_type": "code",
      "execution_count": null,
      "metadata": {
        "id": "jIlgijfL_dfO"
      },
      "outputs": [],
      "source": [
        "# copy one file in another folder\n",
        "\n",
        "# we want to copy UK.xlsx file  in 'Raw_Excel_Files' folder\n",
        "\n",
        "# destination WHERE we want to copy \n",
        "dest = 'Raw_Excel_Files'\n",
        "\n",
        "# source file : WHAT we want to copy\n",
        "src=  '/content/UK.xlsx' # source ==> the path to the file that we want to copy (we wuse absoute path as UK.xlsx is outside cwd)"
      ]
    },
    {
      "cell_type": "code",
      "execution_count": null,
      "metadata": {
        "id": "bWw3YvhHxguf",
        "outputId": "ee9994a5-f5e1-42c1-cc65-2179e86c340d",
        "colab": {
          "base_uri": "https://localhost:8080/",
          "height": 36
        }
      },
      "outputs": [
        {
          "output_type": "execute_result",
          "data": {
            "text/plain": [
              "'Raw_Excel_Files/UK.xlsx'"
            ],
            "application/vnd.google.colaboratory.intrinsic+json": {
              "type": "string"
            }
          },
          "metadata": {},
          "execution_count": 32
        }
      ],
      "source": [
        "# work with shutil package\n",
        "''' Shutil module offers high-level operation on a file like a copy, create, move\n",
        "and remote operation on the file '''\n",
        "\n",
        "#  copy the file from the source <<src>> in the folder we want << dest >>\n",
        "shutil.copy(src, # what file we want to copy, more specifically its path\n",
        "            dest) # path to the folder we want to paste the copied file"
      ]
    },
    {
      "cell_type": "code",
      "execution_count": null,
      "metadata": {
        "id": "wQKytxOX1SSm",
        "outputId": "47941ed3-144c-4c0a-bc2c-40c061b420f7",
        "colab": {
          "base_uri": "https://localhost:8080/",
          "height": 36
        }
      },
      "outputs": [
        {
          "output_type": "execute_result",
          "data": {
            "text/plain": [
              "'Raw_Excel_Files/FR.xlsx'"
            ],
            "application/vnd.google.colaboratory.intrinsic+json": {
              "type": "string"
            }
          },
          "metadata": {},
          "execution_count": 33
        }
      ],
      "source": [
        "# file that we want to copy : FR.xlsx\n",
        "src='/content/FR.xlsx'\n",
        "\n",
        "# copy the file in the folder we want\n",
        "shutil.copy(src, dest)"
      ]
    },
    {
      "cell_type": "code",
      "execution_count": null,
      "metadata": {
        "id": "ry059DRi_dfR",
        "outputId": "65afc70f-5ee4-419b-c63a-c137a0be12d7",
        "colab": {
          "base_uri": "https://localhost:8080/",
          "height": 36
        }
      },
      "outputs": [
        {
          "output_type": "execute_result",
          "data": {
            "text/plain": [
              "'Raw_Excel_Files/DE.xlsx'"
            ],
            "application/vnd.google.colaboratory.intrinsic+json": {
              "type": "string"
            }
          },
          "metadata": {},
          "execution_count": 34
        }
      ],
      "source": [
        "# file that we want to copy : DE.xlsx\n",
        "src='/content/DE.xlsx'\n",
        "\n",
        "# copy the file in the folder we want\n",
        "shutil.copy(src, dest)"
      ]
    },
    {
      "cell_type": "code",
      "source": [
        "# and now look at the containing of Raw_Excel_Files'\n",
        "\n",
        "os.listdir('Raw_Excel_Files')"
      ],
      "metadata": {
        "id": "-WJNe2zk-aAS",
        "outputId": "d5600e01-de1c-4283-a90b-0c4877b1512b",
        "colab": {
          "base_uri": "https://localhost:8080/"
        }
      },
      "execution_count": null,
      "outputs": [
        {
          "output_type": "execute_result",
          "data": {
            "text/plain": [
              "['UK.xlsx', 'FR.xlsx', 'DE.xlsx']"
            ]
          },
          "metadata": {},
          "execution_count": 35
        }
      ]
    },
    {
      "cell_type": "markdown",
      "source": [
        "## Copy multiple files at once"
      ],
      "metadata": {
        "id": "30Bfuo5yKlhn"
      }
    },
    {
      "cell_type": "code",
      "source": [
        "# find all absolute paths to our xlsx files in 'Raw_Excel_Files' with glob\n",
        "\n",
        "path = 'Raw_Excel_Files'\n",
        "\n",
        "# create a list filespaths that ..\n",
        "# ... will contain the paths to all files with extension .xlsx\n",
        "filespaths = glob.glob(os.path.abspath(path) + \"/*.xlsx\")\n",
        "filespaths"
      ],
      "metadata": {
        "id": "LiRv6xydD8wf",
        "outputId": "e8c4e45a-66a8-4460-9372-b69d09158b9f",
        "colab": {
          "base_uri": "https://localhost:8080/"
        }
      },
      "execution_count": null,
      "outputs": [
        {
          "output_type": "execute_result",
          "data": {
            "text/plain": [
              "['/content/gdrive/MyDrive/Raw_Excel_Files/UK.xlsx',\n",
              " '/content/gdrive/MyDrive/Raw_Excel_Files/FR.xlsx',\n",
              " '/content/gdrive/MyDrive/Raw_Excel_Files/DE.xlsx']"
            ]
          },
          "metadata": {},
          "execution_count": 36
        }
      ]
    },
    {
      "cell_type": "code",
      "execution_count": null,
      "metadata": {
        "id": "bdsQE7Fh_dfR",
        "outputId": "bbf88b05-50e1-4b74-b959-464ea311a82c",
        "colab": {
          "base_uri": "https://localhost:8080/"
        }
      },
      "outputs": [
        {
          "output_type": "stream",
          "name": "stdout",
          "text": [
            "['/content/gdrive/MyDrive/Raw_Excel_Files/UK.xlsx', '/content/gdrive/MyDrive/Raw_Excel_Files/FR.xlsx', '/content/gdrive/MyDrive/Raw_Excel_Files/DE.xlsx']\n",
            "/content/gdrive/MyDrive\n"
          ]
        }
      ],
      "source": [
        "# copy the multiple files in the folder we want\n",
        "\n",
        "dest = cwd # we want to copy our file in cwd MyDrive\n",
        "\n",
        "# we want to copy all excel files in Raw_Excel_Files in dest\n",
        "print(filespaths)\n",
        "print(dest)\n",
        "\n",
        "for file in filespaths:\n",
        "    shutil.copy(file, dest)"
      ]
    },
    {
      "cell_type": "code",
      "source": [
        "# check the cwd containing again to notify the presece of excel files\n",
        "os.listdir('.')\n"
      ],
      "metadata": {
        "id": "qCs2wZZFE9RZ",
        "outputId": "664e65f8-17a1-4726-d49c-155e970f5c78",
        "colab": {
          "base_uri": "https://localhost:8080/"
        }
      },
      "execution_count": null,
      "outputs": [
        {
          "output_type": "execute_result",
          "data": {
            "text/plain": [
              "['Getting started.pdf',\n",
              " 'Sigappi S_Sharepoint Developer_7.06 yrs_Resume.doc',\n",
              " 'Sigappi_Sharepoint Developer (1).docx',\n",
              " 'Sigappi_Sharepoint Developer.docx',\n",
              " 'Web and Systems Developer JD.gdoc',\n",
              " 'im218.jpg',\n",
              " 'Passport ',\n",
              " 'Colab Notebooks',\n",
              " 'Raw_Excel_Files',\n",
              " 'New_Folder',\n",
              " 'UK.xlsx',\n",
              " 'FR.xlsx',\n",
              " 'DE.xlsx']"
            ]
          },
          "metadata": {},
          "execution_count": 38
        }
      ]
    },
    {
      "cell_type": "markdown",
      "metadata": {
        "id": "ot-XcKgS0vli"
      },
      "source": [
        "# 7.&nbsp;Move File"
      ]
    },
    {
      "cell_type": "code",
      "execution_count": null,
      "metadata": {
        "id": "MC1Fq8YA_dfT",
        "outputId": "94827320-af3d-458e-8c67-815aa7b9aa34",
        "colab": {
          "base_uri": "https://localhost:8080/"
        }
      },
      "outputs": [
        {
          "output_type": "stream",
          "name": "stdout",
          "text": [
            "/content/gdrive/MyDrive/Old_Files\n"
          ]
        },
        {
          "output_type": "execute_result",
          "data": {
            "text/plain": [
              "['Getting started.pdf',\n",
              " 'Sigappi S_Sharepoint Developer_7.06 yrs_Resume.doc',\n",
              " 'Sigappi_Sharepoint Developer (1).docx',\n",
              " 'Sigappi_Sharepoint Developer.docx',\n",
              " 'Web and Systems Developer JD.gdoc',\n",
              " 'im218.jpg',\n",
              " 'Passport ',\n",
              " 'Colab Notebooks',\n",
              " 'Raw_Excel_Files',\n",
              " 'New_Folder',\n",
              " 'UK.xlsx',\n",
              " 'FR.xlsx',\n",
              " 'DE.xlsx',\n",
              " 'Old_Files']"
            ]
          },
          "metadata": {},
          "execution_count": 39
        }
      ],
      "source": [
        "# create a folder << Old_Files >> where we would like to move files \n",
        "\n",
        "# First: write the path to folder\n",
        "folder_1 = cwd + '/' + 'Old_Files'\n",
        "print(folder_1)\n",
        "\n",
        "# Second: create the folder at the indicated path\n",
        "os.makedirs(folder_1)\n",
        "\n",
        "# check cwd\n",
        "os.listdir('.')"
      ]
    },
    {
      "cell_type": "code",
      "execution_count": null,
      "metadata": {
        "id": "aRJI5bND0ySA",
        "outputId": "dafd2126-1aad-4854-fed7-841f919b018f",
        "colab": {
          "base_uri": "https://localhost:8080/"
        }
      },
      "outputs": [
        {
          "output_type": "stream",
          "name": "stdout",
          "text": [
            "content:  ['.config', 'DE.xlsx', 'UK.xlsx', 'gdrive', 'FR.xlsx', 'sample_data']\n",
            "MyDrive/Old_Files:  ['UK_old.xlsx']\n"
          ]
        }
      ],
      "source": [
        "# folder_to_move (it would be like cut/paste\n",
        "\n",
        "file_to_move = '/content/UK_old.xlsx' # from directory content\n",
        "\n",
        "shutil.move(file_to_move, # file/folder to cut\n",
        "           folder_1) # folder where to move = '/content/gdrive/MyDrive/Old_Files/UK_old.xlsx'  \n",
        "           \n",
        "\n",
        "# check directory content\n",
        "print('content: ', os.listdir('/content'))  # now UK_old.xlsx has disapeared for content\n",
        "      \n",
        "# check directory MyDrive/Old_Files\n",
        "print('MyDrive/Old_Files: ', os.listdir('Old_Files'))  # now UK_old.xlsx has disapeared for content"
      ]
    },
    {
      "cell_type": "markdown",
      "metadata": {
        "id": "mXx48d0W2427"
      },
      "source": [
        "# 5.&nbsp;Delete Files"
      ]
    },
    {
      "cell_type": "code",
      "execution_count": null,
      "metadata": {
        "id": "RYdN0l___dfU",
        "outputId": "6d0f568b-0c03-4449-cf55-091f9505bd16",
        "colab": {
          "base_uri": "https://localhost:8080/",
          "height": 36
        }
      },
      "outputs": [
        {
          "output_type": "execute_result",
          "data": {
            "text/plain": [
              "'/content/gdrive/MyDrive'"
            ],
            "application/vnd.google.colaboratory.intrinsic+json": {
              "type": "string"
            }
          },
          "metadata": {},
          "execution_count": 41
        }
      ],
      "source": [
        "# reminder of cwd\n",
        "cwd"
      ]
    },
    {
      "cell_type": "code",
      "source": [
        "# check Old_Files containing\n",
        "\n",
        "os.listdir('Old_Files')"
      ],
      "metadata": {
        "id": "etZpw10PN-tG",
        "outputId": "00438c55-d460-48ad-8f12-1bb30d7c6ec6",
        "colab": {
          "base_uri": "https://localhost:8080/"
        }
      },
      "execution_count": null,
      "outputs": [
        {
          "output_type": "execute_result",
          "data": {
            "text/plain": [
              "['UK_old.xlsx']"
            ]
          },
          "metadata": {},
          "execution_count": 42
        }
      ]
    },
    {
      "cell_type": "markdown",
      "source": [
        "## Delete file"
      ],
      "metadata": {
        "id": "6GbgsaVwPd8U"
      }
    },
    {
      "cell_type": "code",
      "execution_count": null,
      "metadata": {
        "id": "rOYRvWSr2a0q",
        "outputId": "b22c7844-5e90-4817-ba7e-56b1a35da646",
        "colab": {
          "base_uri": "https://localhost:8080/"
        }
      },
      "outputs": [
        {
          "output_type": "execute_result",
          "data": {
            "text/plain": [
              "[]"
            ]
          },
          "metadata": {},
          "execution_count": 43
        }
      ],
      "source": [
        "# delete a file UK_old.xlsx from Old_Files with os.unlink\n",
        "\n",
        "os.unlink('Old_Files/UK_old.xlsx') # relative path as UK_old in the working directory\n",
        "\n",
        "# check again Old_Files containing\n",
        "os.listdir('Old_Files')"
      ]
    },
    {
      "cell_type": "code",
      "source": [
        "# check cwd\n",
        "os.listdir('.')"
      ],
      "metadata": {
        "id": "wm39NbJfOmXB",
        "outputId": "9969196e-da0b-4a51-c4c1-bb5ef5a82021",
        "colab": {
          "base_uri": "https://localhost:8080/"
        }
      },
      "execution_count": null,
      "outputs": [
        {
          "output_type": "execute_result",
          "data": {
            "text/plain": [
              "['Getting started.pdf',\n",
              " 'Sigappi S_Sharepoint Developer_7.06 yrs_Resume.doc',\n",
              " 'Sigappi_Sharepoint Developer (1).docx',\n",
              " 'Sigappi_Sharepoint Developer.docx',\n",
              " 'Web and Systems Developer JD.gdoc',\n",
              " 'im218.jpg',\n",
              " 'Passport ',\n",
              " 'Colab Notebooks',\n",
              " 'Raw_Excel_Files',\n",
              " 'New_Folder',\n",
              " 'UK.xlsx',\n",
              " 'FR.xlsx',\n",
              " 'DE.xlsx',\n",
              " 'Old_Files']"
            ]
          },
          "metadata": {},
          "execution_count": 44
        }
      ]
    },
    {
      "cell_type": "markdown",
      "source": [
        "## Delete folder"
      ],
      "metadata": {
        "id": "x-R9sj0KPijH"
      }
    },
    {
      "cell_type": "markdown",
      "source": [
        "There is a diference when deleting EMPTY and NOT empty folders:\n",
        "\n",
        "\n",
        "\n",
        "1.   For ***EMPTY** use .rmdir function *from package os*\n",
        "2.   For ***NOT EMPTY** use .rmtree function *from package shutil*"
      ],
      "metadata": {
        "id": "Xjcn3nbyOy8t"
      }
    },
    {
      "cell_type": "markdown",
      "source": [
        "**EMPTY folder**"
      ],
      "metadata": {
        "id": "LhodrGvWPoQg"
      }
    },
    {
      "cell_type": "code",
      "execution_count": null,
      "metadata": {
        "id": "DxLnN3ya3KWN"
      },
      "outputs": [],
      "source": [
        "# delete empty folder 'Old_Files' from cwd with os.rmdir\n",
        "\n",
        "folder_to_remove= 'Old_Files'\n",
        "os.rmdir(folder_to_remove)"
      ]
    },
    {
      "cell_type": "markdown",
      "source": [
        "*** NOT EMPTY folder**"
      ],
      "metadata": {
        "id": "xMzy2OziPth0"
      }
    },
    {
      "cell_type": "code",
      "source": [
        "# list files inside a specific folder (get children)\n",
        "\n",
        "print (os.listdir('New_Folder'))"
      ],
      "metadata": {
        "id": "HJXGMKc8QKsS",
        "outputId": "4b0bafac-2272-4281-8179-2ccf551580a6",
        "colab": {
          "base_uri": "https://localhost:8080/"
        }
      },
      "execution_count": null,
      "outputs": [
        {
          "output_type": "stream",
          "name": "stdout",
          "text": [
            "['Inner_folder']\n"
          ]
        }
      ]
    },
    {
      "cell_type": "code",
      "source": [
        "# save path to New_FOlder\n",
        "inner_folder = '/content/gdrive/MyDrive/New_Folder/Inner_folder'\n",
        "\n",
        "# prit parent of Inner_Folder\n",
        "print(Path(inner_folder).parents[0])"
      ],
      "metadata": {
        "id": "uVBmXk4gQXGC",
        "outputId": "1688ac7d-1db7-4d5c-ee6b-270fd2d987a9",
        "colab": {
          "base_uri": "https://localhost:8080/"
        }
      },
      "execution_count": null,
      "outputs": [
        {
          "output_type": "stream",
          "name": "stdout",
          "text": [
            "/content/gdrive/MyDrive/New_Folder\n"
          ]
        }
      ]
    },
    {
      "cell_type": "code",
      "execution_count": null,
      "metadata": {
        "id": "eV1B39qb3iCB",
        "outputId": "16fe033d-e4f2-422f-90a9-f24a67a622d0",
        "colab": {
          "base_uri": "https://localhost:8080/"
        }
      },
      "outputs": [
        {
          "output_type": "execute_result",
          "data": {
            "text/plain": [
              "['Getting started.pdf',\n",
              " 'Sigappi S_Sharepoint Developer_7.06 yrs_Resume.doc',\n",
              " 'Sigappi_Sharepoint Developer (1).docx',\n",
              " 'Sigappi_Sharepoint Developer.docx',\n",
              " 'Web and Systems Developer JD.gdoc',\n",
              " 'im218.jpg',\n",
              " 'Passport ',\n",
              " 'Colab Notebooks',\n",
              " 'Raw_Excel_Files',\n",
              " 'UK.xlsx',\n",
              " 'FR.xlsx',\n",
              " 'DE.xlsx']"
            ]
          },
          "metadata": {},
          "execution_count": 48
        }
      ],
      "source": [
        "# delete NOT empty folder\n",
        "\n",
        "# New_Folder contains another file 'Inner_folder'\n",
        "\n",
        "shutil.rmtree('New_Folder') \n",
        "\n",
        "# check again cwd containing to certify that folder has disapeared\n",
        "\n",
        "os.listdir('.')"
      ]
    },
    {
      "cell_type": "markdown",
      "metadata": {
        "id": "0fgLzMm584mg"
      },
      "source": [
        "# Work with Excel Files\n"
      ]
    },
    {
      "cell_type": "code",
      "execution_count": null,
      "metadata": {
        "id": "Eml73ZwN9Z-V"
      },
      "outputs": [],
      "source": [
        "# Create a folder 'Processed_Files' in the cwd where we'll store all processed files \n",
        "\n",
        "des = cwd + '/' + 'Processed_Files'\n",
        "os.makedirs(des)"
      ]
    },
    {
      "cell_type": "markdown",
      "metadata": {
        "id": "7EImbUAb-oBT"
      },
      "source": [
        "\n",
        "\n",
        "1.  First read each excel files and put them into pandas dataframe\n",
        "2.  Consolidate all excel files into a single excel with separate sheet by country\n",
        "3.  Consolidate all excels into a single excel sheet\n",
        "\n"
      ]
    },
    {
      "cell_type": "markdown",
      "metadata": {
        "id": "Z1bvAVLN_dfX"
      },
      "source": [
        "## Read excels"
      ]
    },
    {
      "cell_type": "code",
      "execution_count": null,
      "metadata": {
        "id": "5Vlm5_yr89UT"
      },
      "outputs": [],
      "source": [
        "# if the excel file has too many rows, when visualising the data, not all columns are displayed\n",
        "# to overcome this we use .set_option method\n",
        "\n",
        "# set visible all columns\n",
        "pd.set_option('display.max_columns', None)"
      ]
    },
    {
      "cell_type": "code",
      "execution_count": null,
      "metadata": {
        "id": "7qNp7_9l9ORl",
        "outputId": "5465f1de-4c09-464f-b683-3e7306663bff",
        "colab": {
          "base_uri": "https://localhost:8080/",
          "height": 409
        }
      },
      "outputs": [
        {
          "output_type": "stream",
          "name": "stdout",
          "text": [
            "Dataframe Shape:  (673, 14)\n"
          ]
        },
        {
          "output_type": "execute_result",
          "data": {
            "text/plain": [
              "        Date        Name Mannschaft  Rohe Präsenz (min)  Pause (Minuten)  \\\n",
              "0 2022-04-12  Employee_1     TEAM_1                 102                0   \n",
              "1 2022-04-13  Employee_1     TEAM_1                 299                0   \n",
              "2 2022-04-19  Employee_1     TEAM_1                 478                0   \n",
              "3 2022-04-20  Employee_1     TEAM_1                 427                0   \n",
              "4 2022-04-21  Employee_1     TEAM_1                 482                0   \n",
              "\n",
              "   Nettopräsenz (Min.)  Behandlung (min)       DMT  Productiviy  \\\n",
              "0                  102                 4  00:02:08          0.6   \n",
              "1                  299               168  00:42:00          0.4   \n",
              "2                  478               275  00:16:12          2.0   \n",
              "3                  427               142  00:12:56          1.4   \n",
              "4                  482               129  00:16:12          1.0   \n",
              "\n",
              "   Processed tickets  Closed Tickets  FTE (processed)  FTE (presence)  \\\n",
              "0                  2               1             0.00            0.25   \n",
              "1                  4               2             0.50            0.75   \n",
              "2                 17              16             0.75            1.00   \n",
              "3                 11              10             0.50            1.00   \n",
              "4                  8               8             0.50            1.00   \n",
              "\n",
              "   FTE weighted  \n",
              "0          0.00  \n",
              "1          0.50  \n",
              "2          0.75  \n",
              "3          0.50  \n",
              "4          0.50  "
            ],
            "text/html": [
              "\n",
              "  <div id=\"df-f4fd0d23-c3bd-4927-907d-8fd17e847671\">\n",
              "    <div class=\"colab-df-container\">\n",
              "      <div>\n",
              "<style scoped>\n",
              "    .dataframe tbody tr th:only-of-type {\n",
              "        vertical-align: middle;\n",
              "    }\n",
              "\n",
              "    .dataframe tbody tr th {\n",
              "        vertical-align: top;\n",
              "    }\n",
              "\n",
              "    .dataframe thead th {\n",
              "        text-align: right;\n",
              "    }\n",
              "</style>\n",
              "<table border=\"1\" class=\"dataframe\">\n",
              "  <thead>\n",
              "    <tr style=\"text-align: right;\">\n",
              "      <th></th>\n",
              "      <th>Date</th>\n",
              "      <th>Name</th>\n",
              "      <th>Mannschaft</th>\n",
              "      <th>Rohe Präsenz (min)</th>\n",
              "      <th>Pause (Minuten)</th>\n",
              "      <th>Nettopräsenz (Min.)</th>\n",
              "      <th>Behandlung (min)</th>\n",
              "      <th>DMT</th>\n",
              "      <th>Productiviy</th>\n",
              "      <th>Processed tickets</th>\n",
              "      <th>Closed Tickets</th>\n",
              "      <th>FTE (processed)</th>\n",
              "      <th>FTE (presence)</th>\n",
              "      <th>FTE weighted</th>\n",
              "    </tr>\n",
              "  </thead>\n",
              "  <tbody>\n",
              "    <tr>\n",
              "      <th>0</th>\n",
              "      <td>2022-04-12</td>\n",
              "      <td>Employee_1</td>\n",
              "      <td>TEAM_1</td>\n",
              "      <td>102</td>\n",
              "      <td>0</td>\n",
              "      <td>102</td>\n",
              "      <td>4</td>\n",
              "      <td>00:02:08</td>\n",
              "      <td>0.6</td>\n",
              "      <td>2</td>\n",
              "      <td>1</td>\n",
              "      <td>0.00</td>\n",
              "      <td>0.25</td>\n",
              "      <td>0.00</td>\n",
              "    </tr>\n",
              "    <tr>\n",
              "      <th>1</th>\n",
              "      <td>2022-04-13</td>\n",
              "      <td>Employee_1</td>\n",
              "      <td>TEAM_1</td>\n",
              "      <td>299</td>\n",
              "      <td>0</td>\n",
              "      <td>299</td>\n",
              "      <td>168</td>\n",
              "      <td>00:42:00</td>\n",
              "      <td>0.4</td>\n",
              "      <td>4</td>\n",
              "      <td>2</td>\n",
              "      <td>0.50</td>\n",
              "      <td>0.75</td>\n",
              "      <td>0.50</td>\n",
              "    </tr>\n",
              "    <tr>\n",
              "      <th>2</th>\n",
              "      <td>2022-04-19</td>\n",
              "      <td>Employee_1</td>\n",
              "      <td>TEAM_1</td>\n",
              "      <td>478</td>\n",
              "      <td>0</td>\n",
              "      <td>478</td>\n",
              "      <td>275</td>\n",
              "      <td>00:16:12</td>\n",
              "      <td>2.0</td>\n",
              "      <td>17</td>\n",
              "      <td>16</td>\n",
              "      <td>0.75</td>\n",
              "      <td>1.00</td>\n",
              "      <td>0.75</td>\n",
              "    </tr>\n",
              "    <tr>\n",
              "      <th>3</th>\n",
              "      <td>2022-04-20</td>\n",
              "      <td>Employee_1</td>\n",
              "      <td>TEAM_1</td>\n",
              "      <td>427</td>\n",
              "      <td>0</td>\n",
              "      <td>427</td>\n",
              "      <td>142</td>\n",
              "      <td>00:12:56</td>\n",
              "      <td>1.4</td>\n",
              "      <td>11</td>\n",
              "      <td>10</td>\n",
              "      <td>0.50</td>\n",
              "      <td>1.00</td>\n",
              "      <td>0.50</td>\n",
              "    </tr>\n",
              "    <tr>\n",
              "      <th>4</th>\n",
              "      <td>2022-04-21</td>\n",
              "      <td>Employee_1</td>\n",
              "      <td>TEAM_1</td>\n",
              "      <td>482</td>\n",
              "      <td>0</td>\n",
              "      <td>482</td>\n",
              "      <td>129</td>\n",
              "      <td>00:16:12</td>\n",
              "      <td>1.0</td>\n",
              "      <td>8</td>\n",
              "      <td>8</td>\n",
              "      <td>0.50</td>\n",
              "      <td>1.00</td>\n",
              "      <td>0.50</td>\n",
              "    </tr>\n",
              "  </tbody>\n",
              "</table>\n",
              "</div>\n",
              "      <button class=\"colab-df-convert\" onclick=\"convertToInteractive('df-f4fd0d23-c3bd-4927-907d-8fd17e847671')\"\n",
              "              title=\"Convert this dataframe to an interactive table.\"\n",
              "              style=\"display:none;\">\n",
              "        \n",
              "  <svg xmlns=\"http://www.w3.org/2000/svg\" height=\"24px\"viewBox=\"0 0 24 24\"\n",
              "       width=\"24px\">\n",
              "    <path d=\"M0 0h24v24H0V0z\" fill=\"none\"/>\n",
              "    <path d=\"M18.56 5.44l.94 2.06.94-2.06 2.06-.94-2.06-.94-.94-2.06-.94 2.06-2.06.94zm-11 1L8.5 8.5l.94-2.06 2.06-.94-2.06-.94L8.5 2.5l-.94 2.06-2.06.94zm10 10l.94 2.06.94-2.06 2.06-.94-2.06-.94-.94-2.06-.94 2.06-2.06.94z\"/><path d=\"M17.41 7.96l-1.37-1.37c-.4-.4-.92-.59-1.43-.59-.52 0-1.04.2-1.43.59L10.3 9.45l-7.72 7.72c-.78.78-.78 2.05 0 2.83L4 21.41c.39.39.9.59 1.41.59.51 0 1.02-.2 1.41-.59l7.78-7.78 2.81-2.81c.8-.78.8-2.07 0-2.86zM5.41 20L4 18.59l7.72-7.72 1.47 1.35L5.41 20z\"/>\n",
              "  </svg>\n",
              "      </button>\n",
              "      \n",
              "  <style>\n",
              "    .colab-df-container {\n",
              "      display:flex;\n",
              "      flex-wrap:wrap;\n",
              "      gap: 12px;\n",
              "    }\n",
              "\n",
              "    .colab-df-convert {\n",
              "      background-color: #E8F0FE;\n",
              "      border: none;\n",
              "      border-radius: 50%;\n",
              "      cursor: pointer;\n",
              "      display: none;\n",
              "      fill: #1967D2;\n",
              "      height: 32px;\n",
              "      padding: 0 0 0 0;\n",
              "      width: 32px;\n",
              "    }\n",
              "\n",
              "    .colab-df-convert:hover {\n",
              "      background-color: #E2EBFA;\n",
              "      box-shadow: 0px 1px 2px rgba(60, 64, 67, 0.3), 0px 1px 3px 1px rgba(60, 64, 67, 0.15);\n",
              "      fill: #174EA6;\n",
              "    }\n",
              "\n",
              "    [theme=dark] .colab-df-convert {\n",
              "      background-color: #3B4455;\n",
              "      fill: #D2E3FC;\n",
              "    }\n",
              "\n",
              "    [theme=dark] .colab-df-convert:hover {\n",
              "      background-color: #434B5C;\n",
              "      box-shadow: 0px 1px 3px 1px rgba(0, 0, 0, 0.15);\n",
              "      filter: drop-shadow(0px 1px 2px rgba(0, 0, 0, 0.3));\n",
              "      fill: #FFFFFF;\n",
              "    }\n",
              "  </style>\n",
              "\n",
              "      <script>\n",
              "        const buttonEl =\n",
              "          document.querySelector('#df-f4fd0d23-c3bd-4927-907d-8fd17e847671 button.colab-df-convert');\n",
              "        buttonEl.style.display =\n",
              "          google.colab.kernel.accessAllowed ? 'block' : 'none';\n",
              "\n",
              "        async function convertToInteractive(key) {\n",
              "          const element = document.querySelector('#df-f4fd0d23-c3bd-4927-907d-8fd17e847671');\n",
              "          const dataTable =\n",
              "            await google.colab.kernel.invokeFunction('convertToInteractive',\n",
              "                                                     [key], {});\n",
              "          if (!dataTable) return;\n",
              "\n",
              "          const docLinkHtml = 'Like what you see? Visit the ' +\n",
              "            '<a target=\"_blank\" href=https://colab.research.google.com/notebooks/data_table.ipynb>data table notebook</a>'\n",
              "            + ' to learn more about interactive tables.';\n",
              "          element.innerHTML = '';\n",
              "          dataTable['output_type'] = 'display_data';\n",
              "          await google.colab.output.renderOutput(dataTable, element);\n",
              "          const docLink = document.createElement('div');\n",
              "          docLink.innerHTML = docLinkHtml;\n",
              "          element.appendChild(docLink);\n",
              "        }\n",
              "      </script>\n",
              "    </div>\n",
              "  </div>\n",
              "  "
            ]
          },
          "metadata": {},
          "execution_count": 51
        }
      ],
      "source": [
        "# DE.xlsx file\n",
        "\n",
        "# store the nme of the file in filename variable\n",
        "filename = 'DE.xlsx'\n",
        "# read the excel file with .read_excel method\n",
        "de = pd.read_excel(filename, # the file we want to read\n",
        "                   index_col=None, # do not add column index\n",
        "                   header=0) # the first row to be used as headers (column names)\n",
        "\n",
        "# check dataframe shape\n",
        "print('Dataframe Shape: ', de.shape)\n",
        "de.head()"
      ]
    },
    {
      "cell_type": "code",
      "execution_count": null,
      "metadata": {
        "id": "q-ZJeXh4_KBz",
        "outputId": "995e4e4c-d167-445e-c7cc-9541f3077646",
        "colab": {
          "base_uri": "https://localhost:8080/",
          "height": 409
        }
      },
      "outputs": [
        {
          "output_type": "stream",
          "name": "stdout",
          "text": [
            "Dataframe Shape:  (673, 15)\n"
          ]
        },
        {
          "output_type": "execute_result",
          "data": {
            "text/plain": [
              "        Date        Name Mannschaft  Rohe Präsenz (min)  Pause (Minuten)  \\\n",
              "0 2022-04-12  Employee_1     TEAM_1                 102                0   \n",
              "1 2022-04-13  Employee_1     TEAM_1                 299                0   \n",
              "2 2022-04-19  Employee_1     TEAM_1                 478                0   \n",
              "3 2022-04-20  Employee_1     TEAM_1                 427                0   \n",
              "4 2022-04-21  Employee_1     TEAM_1                 482                0   \n",
              "\n",
              "   Nettopräsenz (Min.)  Behandlung (min)       DMT  Productiviy  \\\n",
              "0                  102                 4  00:02:08          0.6   \n",
              "1                  299               168  00:42:00          0.4   \n",
              "2                  478               275  00:16:12          2.0   \n",
              "3                  427               142  00:12:56          1.4   \n",
              "4                  482               129  00:16:12          1.0   \n",
              "\n",
              "   Processed tickets  Closed Tickets  FTE (processed)  FTE (presence)  \\\n",
              "0                  2               1             0.00            0.25   \n",
              "1                  4               2             0.50            0.75   \n",
              "2                 17              16             0.75            1.00   \n",
              "3                 11              10             0.50            1.00   \n",
              "4                  8               8             0.50            1.00   \n",
              "\n",
              "   FTE weighted Country  \n",
              "0          0.00      DE  \n",
              "1          0.50      DE  \n",
              "2          0.75      DE  \n",
              "3          0.50      DE  \n",
              "4          0.50      DE  "
            ],
            "text/html": [
              "\n",
              "  <div id=\"df-ea13a379-a375-4a52-b3c0-6d2d804b5a53\">\n",
              "    <div class=\"colab-df-container\">\n",
              "      <div>\n",
              "<style scoped>\n",
              "    .dataframe tbody tr th:only-of-type {\n",
              "        vertical-align: middle;\n",
              "    }\n",
              "\n",
              "    .dataframe tbody tr th {\n",
              "        vertical-align: top;\n",
              "    }\n",
              "\n",
              "    .dataframe thead th {\n",
              "        text-align: right;\n",
              "    }\n",
              "</style>\n",
              "<table border=\"1\" class=\"dataframe\">\n",
              "  <thead>\n",
              "    <tr style=\"text-align: right;\">\n",
              "      <th></th>\n",
              "      <th>Date</th>\n",
              "      <th>Name</th>\n",
              "      <th>Mannschaft</th>\n",
              "      <th>Rohe Präsenz (min)</th>\n",
              "      <th>Pause (Minuten)</th>\n",
              "      <th>Nettopräsenz (Min.)</th>\n",
              "      <th>Behandlung (min)</th>\n",
              "      <th>DMT</th>\n",
              "      <th>Productiviy</th>\n",
              "      <th>Processed tickets</th>\n",
              "      <th>Closed Tickets</th>\n",
              "      <th>FTE (processed)</th>\n",
              "      <th>FTE (presence)</th>\n",
              "      <th>FTE weighted</th>\n",
              "      <th>Country</th>\n",
              "    </tr>\n",
              "  </thead>\n",
              "  <tbody>\n",
              "    <tr>\n",
              "      <th>0</th>\n",
              "      <td>2022-04-12</td>\n",
              "      <td>Employee_1</td>\n",
              "      <td>TEAM_1</td>\n",
              "      <td>102</td>\n",
              "      <td>0</td>\n",
              "      <td>102</td>\n",
              "      <td>4</td>\n",
              "      <td>00:02:08</td>\n",
              "      <td>0.6</td>\n",
              "      <td>2</td>\n",
              "      <td>1</td>\n",
              "      <td>0.00</td>\n",
              "      <td>0.25</td>\n",
              "      <td>0.00</td>\n",
              "      <td>DE</td>\n",
              "    </tr>\n",
              "    <tr>\n",
              "      <th>1</th>\n",
              "      <td>2022-04-13</td>\n",
              "      <td>Employee_1</td>\n",
              "      <td>TEAM_1</td>\n",
              "      <td>299</td>\n",
              "      <td>0</td>\n",
              "      <td>299</td>\n",
              "      <td>168</td>\n",
              "      <td>00:42:00</td>\n",
              "      <td>0.4</td>\n",
              "      <td>4</td>\n",
              "      <td>2</td>\n",
              "      <td>0.50</td>\n",
              "      <td>0.75</td>\n",
              "      <td>0.50</td>\n",
              "      <td>DE</td>\n",
              "    </tr>\n",
              "    <tr>\n",
              "      <th>2</th>\n",
              "      <td>2022-04-19</td>\n",
              "      <td>Employee_1</td>\n",
              "      <td>TEAM_1</td>\n",
              "      <td>478</td>\n",
              "      <td>0</td>\n",
              "      <td>478</td>\n",
              "      <td>275</td>\n",
              "      <td>00:16:12</td>\n",
              "      <td>2.0</td>\n",
              "      <td>17</td>\n",
              "      <td>16</td>\n",
              "      <td>0.75</td>\n",
              "      <td>1.00</td>\n",
              "      <td>0.75</td>\n",
              "      <td>DE</td>\n",
              "    </tr>\n",
              "    <tr>\n",
              "      <th>3</th>\n",
              "      <td>2022-04-20</td>\n",
              "      <td>Employee_1</td>\n",
              "      <td>TEAM_1</td>\n",
              "      <td>427</td>\n",
              "      <td>0</td>\n",
              "      <td>427</td>\n",
              "      <td>142</td>\n",
              "      <td>00:12:56</td>\n",
              "      <td>1.4</td>\n",
              "      <td>11</td>\n",
              "      <td>10</td>\n",
              "      <td>0.50</td>\n",
              "      <td>1.00</td>\n",
              "      <td>0.50</td>\n",
              "      <td>DE</td>\n",
              "    </tr>\n",
              "    <tr>\n",
              "      <th>4</th>\n",
              "      <td>2022-04-21</td>\n",
              "      <td>Employee_1</td>\n",
              "      <td>TEAM_1</td>\n",
              "      <td>482</td>\n",
              "      <td>0</td>\n",
              "      <td>482</td>\n",
              "      <td>129</td>\n",
              "      <td>00:16:12</td>\n",
              "      <td>1.0</td>\n",
              "      <td>8</td>\n",
              "      <td>8</td>\n",
              "      <td>0.50</td>\n",
              "      <td>1.00</td>\n",
              "      <td>0.50</td>\n",
              "      <td>DE</td>\n",
              "    </tr>\n",
              "  </tbody>\n",
              "</table>\n",
              "</div>\n",
              "      <button class=\"colab-df-convert\" onclick=\"convertToInteractive('df-ea13a379-a375-4a52-b3c0-6d2d804b5a53')\"\n",
              "              title=\"Convert this dataframe to an interactive table.\"\n",
              "              style=\"display:none;\">\n",
              "        \n",
              "  <svg xmlns=\"http://www.w3.org/2000/svg\" height=\"24px\"viewBox=\"0 0 24 24\"\n",
              "       width=\"24px\">\n",
              "    <path d=\"M0 0h24v24H0V0z\" fill=\"none\"/>\n",
              "    <path d=\"M18.56 5.44l.94 2.06.94-2.06 2.06-.94-2.06-.94-.94-2.06-.94 2.06-2.06.94zm-11 1L8.5 8.5l.94-2.06 2.06-.94-2.06-.94L8.5 2.5l-.94 2.06-2.06.94zm10 10l.94 2.06.94-2.06 2.06-.94-2.06-.94-.94-2.06-.94 2.06-2.06.94z\"/><path d=\"M17.41 7.96l-1.37-1.37c-.4-.4-.92-.59-1.43-.59-.52 0-1.04.2-1.43.59L10.3 9.45l-7.72 7.72c-.78.78-.78 2.05 0 2.83L4 21.41c.39.39.9.59 1.41.59.51 0 1.02-.2 1.41-.59l7.78-7.78 2.81-2.81c.8-.78.8-2.07 0-2.86zM5.41 20L4 18.59l7.72-7.72 1.47 1.35L5.41 20z\"/>\n",
              "  </svg>\n",
              "      </button>\n",
              "      \n",
              "  <style>\n",
              "    .colab-df-container {\n",
              "      display:flex;\n",
              "      flex-wrap:wrap;\n",
              "      gap: 12px;\n",
              "    }\n",
              "\n",
              "    .colab-df-convert {\n",
              "      background-color: #E8F0FE;\n",
              "      border: none;\n",
              "      border-radius: 50%;\n",
              "      cursor: pointer;\n",
              "      display: none;\n",
              "      fill: #1967D2;\n",
              "      height: 32px;\n",
              "      padding: 0 0 0 0;\n",
              "      width: 32px;\n",
              "    }\n",
              "\n",
              "    .colab-df-convert:hover {\n",
              "      background-color: #E2EBFA;\n",
              "      box-shadow: 0px 1px 2px rgba(60, 64, 67, 0.3), 0px 1px 3px 1px rgba(60, 64, 67, 0.15);\n",
              "      fill: #174EA6;\n",
              "    }\n",
              "\n",
              "    [theme=dark] .colab-df-convert {\n",
              "      background-color: #3B4455;\n",
              "      fill: #D2E3FC;\n",
              "    }\n",
              "\n",
              "    [theme=dark] .colab-df-convert:hover {\n",
              "      background-color: #434B5C;\n",
              "      box-shadow: 0px 1px 3px 1px rgba(0, 0, 0, 0.15);\n",
              "      filter: drop-shadow(0px 1px 2px rgba(0, 0, 0, 0.3));\n",
              "      fill: #FFFFFF;\n",
              "    }\n",
              "  </style>\n",
              "\n",
              "      <script>\n",
              "        const buttonEl =\n",
              "          document.querySelector('#df-ea13a379-a375-4a52-b3c0-6d2d804b5a53 button.colab-df-convert');\n",
              "        buttonEl.style.display =\n",
              "          google.colab.kernel.accessAllowed ? 'block' : 'none';\n",
              "\n",
              "        async function convertToInteractive(key) {\n",
              "          const element = document.querySelector('#df-ea13a379-a375-4a52-b3c0-6d2d804b5a53');\n",
              "          const dataTable =\n",
              "            await google.colab.kernel.invokeFunction('convertToInteractive',\n",
              "                                                     [key], {});\n",
              "          if (!dataTable) return;\n",
              "\n",
              "          const docLinkHtml = 'Like what you see? Visit the ' +\n",
              "            '<a target=\"_blank\" href=https://colab.research.google.com/notebooks/data_table.ipynb>data table notebook</a>'\n",
              "            + ' to learn more about interactive tables.';\n",
              "          element.innerHTML = '';\n",
              "          dataTable['output_type'] = 'display_data';\n",
              "          await google.colab.output.renderOutput(dataTable, element);\n",
              "          const docLink = document.createElement('div');\n",
              "          docLink.innerHTML = docLinkHtml;\n",
              "          element.appendChild(docLink);\n",
              "        }\n",
              "      </script>\n",
              "    </div>\n",
              "  </div>\n",
              "  "
            ]
          },
          "metadata": {},
          "execution_count": 52
        }
      ],
      "source": [
        "# add a column 'Country' to diferentiate the data in the consilidated dataframe\n",
        "de['Country']= 'DE'\n",
        "\n",
        "# check dataframe shape after adding the new column\n",
        "print('Dataframe Shape: ', de.shape)\n",
        "\n",
        "# visualize first rows\n",
        "de.head()"
      ]
    },
    {
      "cell_type": "code",
      "execution_count": null,
      "metadata": {
        "id": "EJdbhRHx-gDK",
        "outputId": "4bc0888c-64d0-447e-bfd9-6c73c1b1d94f",
        "colab": {
          "base_uri": "https://localhost:8080/"
        }
      },
      "outputs": [
        {
          "output_type": "stream",
          "name": "stdout",
          "text": [
            "nb of columns:  15\n",
            "nb of rows:  673\n"
          ]
        },
        {
          "output_type": "execute_result",
          "data": {
            "text/plain": [
              "Index(['Date', 'Name', 'Mannschaft', 'Rohe Präsenz (min)', 'Pause (Minuten)',\n",
              "       'Nettopräsenz (Min.)', 'Behandlung (min)', 'DMT', 'Productiviy',\n",
              "       'Processed tickets', 'Closed Tickets', 'FTE (processed)',\n",
              "       'FTE (presence)', 'FTE weighted', 'Country'],\n",
              "      dtype='object')"
            ]
          },
          "metadata": {},
          "execution_count": 53
        }
      ],
      "source": [
        "print('nb of columns: ', len(de.columns))\n",
        "print('nb of rows: ', len(de))\n",
        "de.columns"
      ]
    },
    {
      "cell_type": "code",
      "execution_count": null,
      "metadata": {
        "id": "8epCZNIl_Put"
      },
      "outputs": [],
      "source": [
        "# FR\n",
        "filename = 'FR.xlsx'\n",
        "fr = pd.read_excel(filename, index_col=None, header=0)\n",
        "\n",
        "\n",
        "# add a column 'Country' to diferentiate the data in the consilidated dataframe\n",
        "fr['Country']= 'FR'\n",
        "\n",
        "# check dataframe shape, dimensions after adding the new column\n",
        "print('Dataframe Shape: ', fr.shape)\n",
        "print('nb of columns: ', len(fr.columns))\n",
        "print('nb of rows: ', len(fr))\n",
        "\n",
        "# print column names \n",
        "print('column names: ', fr.columns)\n",
        "\n",
        "# visualize first rows\n",
        "fr.head()"
      ]
    },
    {
      "cell_type": "code",
      "execution_count": null,
      "metadata": {
        "id": "qmpsNlOW_lzx",
        "outputId": "94e72725-9162-47f9-bd30-10d8073c23a9",
        "colab": {
          "base_uri": "https://localhost:8080/",
          "height": 530
        }
      },
      "outputs": [
        {
          "output_type": "stream",
          "name": "stdout",
          "text": [
            "Dataframe Shape:  (269, 15)\n",
            "nb of columns:  15\n",
            "nb of rows:  269\n",
            "column names:  Index(['Date', 'Name', 'Team', 'Presence', 'Pause (min)', 'Presence net (min)',\n",
            "       'Processed (min)', 'DMT', 'Productivity hours', 'Processed tickets',\n",
            "       'Closed tickets', 'FTE (process)', 'FTE (presence)', 'FTE weighted',\n",
            "       'Country'],\n",
            "      dtype='object')\n"
          ]
        },
        {
          "output_type": "execute_result",
          "data": {
            "text/plain": [
              "        Date        Name    Team  Presence  Pause (min)  Presence net (min)  \\\n",
              "0 2022-04-12  Employee_1  TEAM_1     102.0          0.0                 102   \n",
              "1 2022-04-19  Employee_1  TEAM_1     478.0          0.0                 478   \n",
              "2 2022-04-20  Employee_1  TEAM_1       4.0          0.0                 427   \n",
              "3 2022-04-21  Employee_1  TEAM_1     482.0          0.0                 482   \n",
              "4 2022-04-22  Employee_1  TEAM_1     476.0          0.0                 476   \n",
              "\n",
              "   Processed (min)       DMT  Productivity hours  Processed tickets  \\\n",
              "0                4  0.001481                 0.6                  2   \n",
              "1              275  0.011250                 2.0                 17   \n",
              "2              142  0.008981                 1.4                 11   \n",
              "3              129  0.011250                 1.0                  8   \n",
              "4              117  0.013634                 0.8                  6   \n",
              "\n",
              "   Closed tickets  FTE (process)  FTE (presence)  FTE weighted Country  \n",
              "0               1           0.00            0.25          0.00      UK  \n",
              "1              16           0.75            1.00          0.75      UK  \n",
              "2              10           0.50            1.00          0.50      UK  \n",
              "3               8           0.50            1.00          0.50      UK  \n",
              "4               6           0.25            1.00          0.25      UK  "
            ],
            "text/html": [
              "\n",
              "  <div id=\"df-f317983a-0d9b-4527-acba-9228a1892b9a\">\n",
              "    <div class=\"colab-df-container\">\n",
              "      <div>\n",
              "<style scoped>\n",
              "    .dataframe tbody tr th:only-of-type {\n",
              "        vertical-align: middle;\n",
              "    }\n",
              "\n",
              "    .dataframe tbody tr th {\n",
              "        vertical-align: top;\n",
              "    }\n",
              "\n",
              "    .dataframe thead th {\n",
              "        text-align: right;\n",
              "    }\n",
              "</style>\n",
              "<table border=\"1\" class=\"dataframe\">\n",
              "  <thead>\n",
              "    <tr style=\"text-align: right;\">\n",
              "      <th></th>\n",
              "      <th>Date</th>\n",
              "      <th>Name</th>\n",
              "      <th>Team</th>\n",
              "      <th>Presence</th>\n",
              "      <th>Pause (min)</th>\n",
              "      <th>Presence net (min)</th>\n",
              "      <th>Processed (min)</th>\n",
              "      <th>DMT</th>\n",
              "      <th>Productivity hours</th>\n",
              "      <th>Processed tickets</th>\n",
              "      <th>Closed tickets</th>\n",
              "      <th>FTE (process)</th>\n",
              "      <th>FTE (presence)</th>\n",
              "      <th>FTE weighted</th>\n",
              "      <th>Country</th>\n",
              "    </tr>\n",
              "  </thead>\n",
              "  <tbody>\n",
              "    <tr>\n",
              "      <th>0</th>\n",
              "      <td>2022-04-12</td>\n",
              "      <td>Employee_1</td>\n",
              "      <td>TEAM_1</td>\n",
              "      <td>102.0</td>\n",
              "      <td>0.0</td>\n",
              "      <td>102</td>\n",
              "      <td>4</td>\n",
              "      <td>0.001481</td>\n",
              "      <td>0.6</td>\n",
              "      <td>2</td>\n",
              "      <td>1</td>\n",
              "      <td>0.00</td>\n",
              "      <td>0.25</td>\n",
              "      <td>0.00</td>\n",
              "      <td>UK</td>\n",
              "    </tr>\n",
              "    <tr>\n",
              "      <th>1</th>\n",
              "      <td>2022-04-19</td>\n",
              "      <td>Employee_1</td>\n",
              "      <td>TEAM_1</td>\n",
              "      <td>478.0</td>\n",
              "      <td>0.0</td>\n",
              "      <td>478</td>\n",
              "      <td>275</td>\n",
              "      <td>0.011250</td>\n",
              "      <td>2.0</td>\n",
              "      <td>17</td>\n",
              "      <td>16</td>\n",
              "      <td>0.75</td>\n",
              "      <td>1.00</td>\n",
              "      <td>0.75</td>\n",
              "      <td>UK</td>\n",
              "    </tr>\n",
              "    <tr>\n",
              "      <th>2</th>\n",
              "      <td>2022-04-20</td>\n",
              "      <td>Employee_1</td>\n",
              "      <td>TEAM_1</td>\n",
              "      <td>4.0</td>\n",
              "      <td>0.0</td>\n",
              "      <td>427</td>\n",
              "      <td>142</td>\n",
              "      <td>0.008981</td>\n",
              "      <td>1.4</td>\n",
              "      <td>11</td>\n",
              "      <td>10</td>\n",
              "      <td>0.50</td>\n",
              "      <td>1.00</td>\n",
              "      <td>0.50</td>\n",
              "      <td>UK</td>\n",
              "    </tr>\n",
              "    <tr>\n",
              "      <th>3</th>\n",
              "      <td>2022-04-21</td>\n",
              "      <td>Employee_1</td>\n",
              "      <td>TEAM_1</td>\n",
              "      <td>482.0</td>\n",
              "      <td>0.0</td>\n",
              "      <td>482</td>\n",
              "      <td>129</td>\n",
              "      <td>0.011250</td>\n",
              "      <td>1.0</td>\n",
              "      <td>8</td>\n",
              "      <td>8</td>\n",
              "      <td>0.50</td>\n",
              "      <td>1.00</td>\n",
              "      <td>0.50</td>\n",
              "      <td>UK</td>\n",
              "    </tr>\n",
              "    <tr>\n",
              "      <th>4</th>\n",
              "      <td>2022-04-22</td>\n",
              "      <td>Employee_1</td>\n",
              "      <td>TEAM_1</td>\n",
              "      <td>476.0</td>\n",
              "      <td>0.0</td>\n",
              "      <td>476</td>\n",
              "      <td>117</td>\n",
              "      <td>0.013634</td>\n",
              "      <td>0.8</td>\n",
              "      <td>6</td>\n",
              "      <td>6</td>\n",
              "      <td>0.25</td>\n",
              "      <td>1.00</td>\n",
              "      <td>0.25</td>\n",
              "      <td>UK</td>\n",
              "    </tr>\n",
              "  </tbody>\n",
              "</table>\n",
              "</div>\n",
              "      <button class=\"colab-df-convert\" onclick=\"convertToInteractive('df-f317983a-0d9b-4527-acba-9228a1892b9a')\"\n",
              "              title=\"Convert this dataframe to an interactive table.\"\n",
              "              style=\"display:none;\">\n",
              "        \n",
              "  <svg xmlns=\"http://www.w3.org/2000/svg\" height=\"24px\"viewBox=\"0 0 24 24\"\n",
              "       width=\"24px\">\n",
              "    <path d=\"M0 0h24v24H0V0z\" fill=\"none\"/>\n",
              "    <path d=\"M18.56 5.44l.94 2.06.94-2.06 2.06-.94-2.06-.94-.94-2.06-.94 2.06-2.06.94zm-11 1L8.5 8.5l.94-2.06 2.06-.94-2.06-.94L8.5 2.5l-.94 2.06-2.06.94zm10 10l.94 2.06.94-2.06 2.06-.94-2.06-.94-.94-2.06-.94 2.06-2.06.94z\"/><path d=\"M17.41 7.96l-1.37-1.37c-.4-.4-.92-.59-1.43-.59-.52 0-1.04.2-1.43.59L10.3 9.45l-7.72 7.72c-.78.78-.78 2.05 0 2.83L4 21.41c.39.39.9.59 1.41.59.51 0 1.02-.2 1.41-.59l7.78-7.78 2.81-2.81c.8-.78.8-2.07 0-2.86zM5.41 20L4 18.59l7.72-7.72 1.47 1.35L5.41 20z\"/>\n",
              "  </svg>\n",
              "      </button>\n",
              "      \n",
              "  <style>\n",
              "    .colab-df-container {\n",
              "      display:flex;\n",
              "      flex-wrap:wrap;\n",
              "      gap: 12px;\n",
              "    }\n",
              "\n",
              "    .colab-df-convert {\n",
              "      background-color: #E8F0FE;\n",
              "      border: none;\n",
              "      border-radius: 50%;\n",
              "      cursor: pointer;\n",
              "      display: none;\n",
              "      fill: #1967D2;\n",
              "      height: 32px;\n",
              "      padding: 0 0 0 0;\n",
              "      width: 32px;\n",
              "    }\n",
              "\n",
              "    .colab-df-convert:hover {\n",
              "      background-color: #E2EBFA;\n",
              "      box-shadow: 0px 1px 2px rgba(60, 64, 67, 0.3), 0px 1px 3px 1px rgba(60, 64, 67, 0.15);\n",
              "      fill: #174EA6;\n",
              "    }\n",
              "\n",
              "    [theme=dark] .colab-df-convert {\n",
              "      background-color: #3B4455;\n",
              "      fill: #D2E3FC;\n",
              "    }\n",
              "\n",
              "    [theme=dark] .colab-df-convert:hover {\n",
              "      background-color: #434B5C;\n",
              "      box-shadow: 0px 1px 3px 1px rgba(0, 0, 0, 0.15);\n",
              "      filter: drop-shadow(0px 1px 2px rgba(0, 0, 0, 0.3));\n",
              "      fill: #FFFFFF;\n",
              "    }\n",
              "  </style>\n",
              "\n",
              "      <script>\n",
              "        const buttonEl =\n",
              "          document.querySelector('#df-f317983a-0d9b-4527-acba-9228a1892b9a button.colab-df-convert');\n",
              "        buttonEl.style.display =\n",
              "          google.colab.kernel.accessAllowed ? 'block' : 'none';\n",
              "\n",
              "        async function convertToInteractive(key) {\n",
              "          const element = document.querySelector('#df-f317983a-0d9b-4527-acba-9228a1892b9a');\n",
              "          const dataTable =\n",
              "            await google.colab.kernel.invokeFunction('convertToInteractive',\n",
              "                                                     [key], {});\n",
              "          if (!dataTable) return;\n",
              "\n",
              "          const docLinkHtml = 'Like what you see? Visit the ' +\n",
              "            '<a target=\"_blank\" href=https://colab.research.google.com/notebooks/data_table.ipynb>data table notebook</a>'\n",
              "            + ' to learn more about interactive tables.';\n",
              "          element.innerHTML = '';\n",
              "          dataTable['output_type'] = 'display_data';\n",
              "          await google.colab.output.renderOutput(dataTable, element);\n",
              "          const docLink = document.createElement('div');\n",
              "          docLink.innerHTML = docLinkHtml;\n",
              "          element.appendChild(docLink);\n",
              "        }\n",
              "      </script>\n",
              "    </div>\n",
              "  </div>\n",
              "  "
            ]
          },
          "metadata": {},
          "execution_count": 55
        }
      ],
      "source": [
        "# UK\n",
        "filename = 'UK.xlsx'\n",
        "uk = pd.read_excel(filename, index_col=None, header=0)\n",
        "\n",
        "\n",
        "# add a column 'Country' to diferentiate the data in the consilidated dataframe\n",
        "uk['Country']= 'UK'\n",
        "\n",
        "# check dataframe shape, dimensions after adding the new column\n",
        "print('Dataframe Shape: ', uk.shape)\n",
        "print('nb of columns: ', len(uk.columns))\n",
        "print('nb of rows: ', len(uk))\n",
        "\n",
        "# print column names \n",
        "print('column names: ', uk.columns)\n",
        "\n",
        "# visualize first rows\n",
        "uk.head()"
      ]
    },
    {
      "cell_type": "markdown",
      "metadata": {
        "id": "oVUypWR__dfa"
      },
      "source": [
        "## Single excel file with separate sheet by country"
      ]
    },
    {
      "cell_type": "markdown",
      "metadata": {
        "id": "1PfPXAglA_5-"
      },
      "source": [
        "Create an excel file where country would be on a separate sheet"
      ]
    },
    {
      "cell_type": "code",
      "execution_count": null,
      "metadata": {
        "id": "m9lLicSB_rER"
      },
      "outputs": [],
      "source": [
        "# create excel writer in the Processed_Files folder with the name 'Consolidation_by_sheet'\n",
        "writer = pd.ExcelWriter('Processed_Files/Consolidated_by_sheet.xlsx')\n",
        "# write dataframe to excel sheet named 'marks'\n",
        "uk.to_excel(writer, 'UK')\n",
        "fr.to_excel(writer, 'FR')\n",
        "de.to_excel(writer, 'DE')\n",
        "\n",
        "# - > !!!! save and close the excel file (important)\n",
        "writer.save()\n",
        "writer.close()"
      ]
    },
    {
      "cell_type": "markdown",
      "metadata": {
        "id": "RyLObXdTBH1N"
      },
      "source": [
        "## Consolidate all excels into a single excel sheet"
      ]
    },
    {
      "cell_type": "code",
      "execution_count": null,
      "metadata": {
        "id": "qWGHukDy_dfb",
        "outputId": "bdf12884-290f-4b10-fe48-22fed962e71d",
        "colab": {
          "base_uri": "https://localhost:8080/",
          "height": 409
        }
      },
      "outputs": [
        {
          "output_type": "stream",
          "name": "stdout",
          "text": [
            "(1209, 34)\n"
          ]
        },
        {
          "output_type": "execute_result",
          "data": {
            "text/plain": [
              "        Date        Name Mannschaft  Rohe Präsenz (min)  Pause (Minuten)  \\\n",
              "0 2022-04-12  Employee_1     TEAM_1               102.0              0.0   \n",
              "1 2022-04-13  Employee_1     TEAM_1               299.0              0.0   \n",
              "2 2022-04-19  Employee_1     TEAM_1               478.0              0.0   \n",
              "3 2022-04-20  Employee_1     TEAM_1               427.0              0.0   \n",
              "4 2022-04-21  Employee_1     TEAM_1               482.0              0.0   \n",
              "\n",
              "   Nettopräsenz (Min.)  Behandlung (min)       DMT  Productiviy  \\\n",
              "0                102.0               4.0  00:02:08          0.6   \n",
              "1                299.0             168.0  00:42:00          0.4   \n",
              "2                478.0             275.0  00:16:12          2.0   \n",
              "3                427.0             142.0  00:12:56          1.4   \n",
              "4                482.0             129.0  00:16:12          1.0   \n",
              "\n",
              "   Processed tickets  Closed Tickets  FTE (processed)  FTE (presence)  \\\n",
              "0                2.0             1.0             0.00            0.25   \n",
              "1                4.0             2.0             0.50            0.75   \n",
              "2               17.0            16.0             0.75            1.00   \n",
              "3               11.0            10.0             0.50            1.00   \n",
              "4                8.0             8.0             0.50            1.00   \n",
              "\n",
              "   FTE weighted Country Nom/Prénom EQUIPE  Présence brute (min)  Pause (min)  \\\n",
              "0          0.00      DE        NaN    NaN                   NaN          NaN   \n",
              "1          0.50      DE        NaN    NaN                   NaN          NaN   \n",
              "2          0.75      DE        NaN    NaN                   NaN          NaN   \n",
              "3          0.50      DE        NaN    NaN                   NaN          NaN   \n",
              "4          0.50      DE        NaN    NaN                   NaN          NaN   \n",
              "\n",
              "   Présente nette (min)  Traitement (min)  Productivité horaire  \\\n",
              "0                   NaN               NaN                   NaN   \n",
              "1                   NaN               NaN                   NaN   \n",
              "2                   NaN               NaN                   NaN   \n",
              "3                   NaN               NaN                   NaN   \n",
              "4                   NaN               NaN                   NaN   \n",
              "\n",
              "   Tickets traités  Tickets clos  FTE (traitement)  FTE (présence)  \\\n",
              "0              NaN           NaN               NaN             NaN   \n",
              "1              NaN           NaN               NaN             NaN   \n",
              "2              NaN           NaN               NaN             NaN   \n",
              "3              NaN           NaN               NaN             NaN   \n",
              "4              NaN           NaN               NaN             NaN   \n",
              "\n",
              "   FTE pondéré Team  Presence  Presence net (min)  Processed (min)  \\\n",
              "0          NaN  NaN       NaN                 NaN              NaN   \n",
              "1          NaN  NaN       NaN                 NaN              NaN   \n",
              "2          NaN  NaN       NaN                 NaN              NaN   \n",
              "3          NaN  NaN       NaN                 NaN              NaN   \n",
              "4          NaN  NaN       NaN                 NaN              NaN   \n",
              "\n",
              "   Productivity hours  Closed tickets  FTE (process)  \n",
              "0                 NaN             NaN            NaN  \n",
              "1                 NaN             NaN            NaN  \n",
              "2                 NaN             NaN            NaN  \n",
              "3                 NaN             NaN            NaN  \n",
              "4                 NaN             NaN            NaN  "
            ],
            "text/html": [
              "\n",
              "  <div id=\"df-df29947e-731a-4cd2-b94d-8fb5a6bf3d78\">\n",
              "    <div class=\"colab-df-container\">\n",
              "      <div>\n",
              "<style scoped>\n",
              "    .dataframe tbody tr th:only-of-type {\n",
              "        vertical-align: middle;\n",
              "    }\n",
              "\n",
              "    .dataframe tbody tr th {\n",
              "        vertical-align: top;\n",
              "    }\n",
              "\n",
              "    .dataframe thead th {\n",
              "        text-align: right;\n",
              "    }\n",
              "</style>\n",
              "<table border=\"1\" class=\"dataframe\">\n",
              "  <thead>\n",
              "    <tr style=\"text-align: right;\">\n",
              "      <th></th>\n",
              "      <th>Date</th>\n",
              "      <th>Name</th>\n",
              "      <th>Mannschaft</th>\n",
              "      <th>Rohe Präsenz (min)</th>\n",
              "      <th>Pause (Minuten)</th>\n",
              "      <th>Nettopräsenz (Min.)</th>\n",
              "      <th>Behandlung (min)</th>\n",
              "      <th>DMT</th>\n",
              "      <th>Productiviy</th>\n",
              "      <th>Processed tickets</th>\n",
              "      <th>Closed Tickets</th>\n",
              "      <th>FTE (processed)</th>\n",
              "      <th>FTE (presence)</th>\n",
              "      <th>FTE weighted</th>\n",
              "      <th>Country</th>\n",
              "      <th>Nom/Prénom</th>\n",
              "      <th>EQUIPE</th>\n",
              "      <th>Présence brute (min)</th>\n",
              "      <th>Pause (min)</th>\n",
              "      <th>Présente nette (min)</th>\n",
              "      <th>Traitement (min)</th>\n",
              "      <th>Productivité horaire</th>\n",
              "      <th>Tickets traités</th>\n",
              "      <th>Tickets clos</th>\n",
              "      <th>FTE (traitement)</th>\n",
              "      <th>FTE (présence)</th>\n",
              "      <th>FTE pondéré</th>\n",
              "      <th>Team</th>\n",
              "      <th>Presence</th>\n",
              "      <th>Presence net (min)</th>\n",
              "      <th>Processed (min)</th>\n",
              "      <th>Productivity hours</th>\n",
              "      <th>Closed tickets</th>\n",
              "      <th>FTE (process)</th>\n",
              "    </tr>\n",
              "  </thead>\n",
              "  <tbody>\n",
              "    <tr>\n",
              "      <th>0</th>\n",
              "      <td>2022-04-12</td>\n",
              "      <td>Employee_1</td>\n",
              "      <td>TEAM_1</td>\n",
              "      <td>102.0</td>\n",
              "      <td>0.0</td>\n",
              "      <td>102.0</td>\n",
              "      <td>4.0</td>\n",
              "      <td>00:02:08</td>\n",
              "      <td>0.6</td>\n",
              "      <td>2.0</td>\n",
              "      <td>1.0</td>\n",
              "      <td>0.00</td>\n",
              "      <td>0.25</td>\n",
              "      <td>0.00</td>\n",
              "      <td>DE</td>\n",
              "      <td>NaN</td>\n",
              "      <td>NaN</td>\n",
              "      <td>NaN</td>\n",
              "      <td>NaN</td>\n",
              "      <td>NaN</td>\n",
              "      <td>NaN</td>\n",
              "      <td>NaN</td>\n",
              "      <td>NaN</td>\n",
              "      <td>NaN</td>\n",
              "      <td>NaN</td>\n",
              "      <td>NaN</td>\n",
              "      <td>NaN</td>\n",
              "      <td>NaN</td>\n",
              "      <td>NaN</td>\n",
              "      <td>NaN</td>\n",
              "      <td>NaN</td>\n",
              "      <td>NaN</td>\n",
              "      <td>NaN</td>\n",
              "      <td>NaN</td>\n",
              "    </tr>\n",
              "    <tr>\n",
              "      <th>1</th>\n",
              "      <td>2022-04-13</td>\n",
              "      <td>Employee_1</td>\n",
              "      <td>TEAM_1</td>\n",
              "      <td>299.0</td>\n",
              "      <td>0.0</td>\n",
              "      <td>299.0</td>\n",
              "      <td>168.0</td>\n",
              "      <td>00:42:00</td>\n",
              "      <td>0.4</td>\n",
              "      <td>4.0</td>\n",
              "      <td>2.0</td>\n",
              "      <td>0.50</td>\n",
              "      <td>0.75</td>\n",
              "      <td>0.50</td>\n",
              "      <td>DE</td>\n",
              "      <td>NaN</td>\n",
              "      <td>NaN</td>\n",
              "      <td>NaN</td>\n",
              "      <td>NaN</td>\n",
              "      <td>NaN</td>\n",
              "      <td>NaN</td>\n",
              "      <td>NaN</td>\n",
              "      <td>NaN</td>\n",
              "      <td>NaN</td>\n",
              "      <td>NaN</td>\n",
              "      <td>NaN</td>\n",
              "      <td>NaN</td>\n",
              "      <td>NaN</td>\n",
              "      <td>NaN</td>\n",
              "      <td>NaN</td>\n",
              "      <td>NaN</td>\n",
              "      <td>NaN</td>\n",
              "      <td>NaN</td>\n",
              "      <td>NaN</td>\n",
              "    </tr>\n",
              "    <tr>\n",
              "      <th>2</th>\n",
              "      <td>2022-04-19</td>\n",
              "      <td>Employee_1</td>\n",
              "      <td>TEAM_1</td>\n",
              "      <td>478.0</td>\n",
              "      <td>0.0</td>\n",
              "      <td>478.0</td>\n",
              "      <td>275.0</td>\n",
              "      <td>00:16:12</td>\n",
              "      <td>2.0</td>\n",
              "      <td>17.0</td>\n",
              "      <td>16.0</td>\n",
              "      <td>0.75</td>\n",
              "      <td>1.00</td>\n",
              "      <td>0.75</td>\n",
              "      <td>DE</td>\n",
              "      <td>NaN</td>\n",
              "      <td>NaN</td>\n",
              "      <td>NaN</td>\n",
              "      <td>NaN</td>\n",
              "      <td>NaN</td>\n",
              "      <td>NaN</td>\n",
              "      <td>NaN</td>\n",
              "      <td>NaN</td>\n",
              "      <td>NaN</td>\n",
              "      <td>NaN</td>\n",
              "      <td>NaN</td>\n",
              "      <td>NaN</td>\n",
              "      <td>NaN</td>\n",
              "      <td>NaN</td>\n",
              "      <td>NaN</td>\n",
              "      <td>NaN</td>\n",
              "      <td>NaN</td>\n",
              "      <td>NaN</td>\n",
              "      <td>NaN</td>\n",
              "    </tr>\n",
              "    <tr>\n",
              "      <th>3</th>\n",
              "      <td>2022-04-20</td>\n",
              "      <td>Employee_1</td>\n",
              "      <td>TEAM_1</td>\n",
              "      <td>427.0</td>\n",
              "      <td>0.0</td>\n",
              "      <td>427.0</td>\n",
              "      <td>142.0</td>\n",
              "      <td>00:12:56</td>\n",
              "      <td>1.4</td>\n",
              "      <td>11.0</td>\n",
              "      <td>10.0</td>\n",
              "      <td>0.50</td>\n",
              "      <td>1.00</td>\n",
              "      <td>0.50</td>\n",
              "      <td>DE</td>\n",
              "      <td>NaN</td>\n",
              "      <td>NaN</td>\n",
              "      <td>NaN</td>\n",
              "      <td>NaN</td>\n",
              "      <td>NaN</td>\n",
              "      <td>NaN</td>\n",
              "      <td>NaN</td>\n",
              "      <td>NaN</td>\n",
              "      <td>NaN</td>\n",
              "      <td>NaN</td>\n",
              "      <td>NaN</td>\n",
              "      <td>NaN</td>\n",
              "      <td>NaN</td>\n",
              "      <td>NaN</td>\n",
              "      <td>NaN</td>\n",
              "      <td>NaN</td>\n",
              "      <td>NaN</td>\n",
              "      <td>NaN</td>\n",
              "      <td>NaN</td>\n",
              "    </tr>\n",
              "    <tr>\n",
              "      <th>4</th>\n",
              "      <td>2022-04-21</td>\n",
              "      <td>Employee_1</td>\n",
              "      <td>TEAM_1</td>\n",
              "      <td>482.0</td>\n",
              "      <td>0.0</td>\n",
              "      <td>482.0</td>\n",
              "      <td>129.0</td>\n",
              "      <td>00:16:12</td>\n",
              "      <td>1.0</td>\n",
              "      <td>8.0</td>\n",
              "      <td>8.0</td>\n",
              "      <td>0.50</td>\n",
              "      <td>1.00</td>\n",
              "      <td>0.50</td>\n",
              "      <td>DE</td>\n",
              "      <td>NaN</td>\n",
              "      <td>NaN</td>\n",
              "      <td>NaN</td>\n",
              "      <td>NaN</td>\n",
              "      <td>NaN</td>\n",
              "      <td>NaN</td>\n",
              "      <td>NaN</td>\n",
              "      <td>NaN</td>\n",
              "      <td>NaN</td>\n",
              "      <td>NaN</td>\n",
              "      <td>NaN</td>\n",
              "      <td>NaN</td>\n",
              "      <td>NaN</td>\n",
              "      <td>NaN</td>\n",
              "      <td>NaN</td>\n",
              "      <td>NaN</td>\n",
              "      <td>NaN</td>\n",
              "      <td>NaN</td>\n",
              "      <td>NaN</td>\n",
              "    </tr>\n",
              "  </tbody>\n",
              "</table>\n",
              "</div>\n",
              "      <button class=\"colab-df-convert\" onclick=\"convertToInteractive('df-df29947e-731a-4cd2-b94d-8fb5a6bf3d78')\"\n",
              "              title=\"Convert this dataframe to an interactive table.\"\n",
              "              style=\"display:none;\">\n",
              "        \n",
              "  <svg xmlns=\"http://www.w3.org/2000/svg\" height=\"24px\"viewBox=\"0 0 24 24\"\n",
              "       width=\"24px\">\n",
              "    <path d=\"M0 0h24v24H0V0z\" fill=\"none\"/>\n",
              "    <path d=\"M18.56 5.44l.94 2.06.94-2.06 2.06-.94-2.06-.94-.94-2.06-.94 2.06-2.06.94zm-11 1L8.5 8.5l.94-2.06 2.06-.94-2.06-.94L8.5 2.5l-.94 2.06-2.06.94zm10 10l.94 2.06.94-2.06 2.06-.94-2.06-.94-.94-2.06-.94 2.06-2.06.94z\"/><path d=\"M17.41 7.96l-1.37-1.37c-.4-.4-.92-.59-1.43-.59-.52 0-1.04.2-1.43.59L10.3 9.45l-7.72 7.72c-.78.78-.78 2.05 0 2.83L4 21.41c.39.39.9.59 1.41.59.51 0 1.02-.2 1.41-.59l7.78-7.78 2.81-2.81c.8-.78.8-2.07 0-2.86zM5.41 20L4 18.59l7.72-7.72 1.47 1.35L5.41 20z\"/>\n",
              "  </svg>\n",
              "      </button>\n",
              "      \n",
              "  <style>\n",
              "    .colab-df-container {\n",
              "      display:flex;\n",
              "      flex-wrap:wrap;\n",
              "      gap: 12px;\n",
              "    }\n",
              "\n",
              "    .colab-df-convert {\n",
              "      background-color: #E8F0FE;\n",
              "      border: none;\n",
              "      border-radius: 50%;\n",
              "      cursor: pointer;\n",
              "      display: none;\n",
              "      fill: #1967D2;\n",
              "      height: 32px;\n",
              "      padding: 0 0 0 0;\n",
              "      width: 32px;\n",
              "    }\n",
              "\n",
              "    .colab-df-convert:hover {\n",
              "      background-color: #E2EBFA;\n",
              "      box-shadow: 0px 1px 2px rgba(60, 64, 67, 0.3), 0px 1px 3px 1px rgba(60, 64, 67, 0.15);\n",
              "      fill: #174EA6;\n",
              "    }\n",
              "\n",
              "    [theme=dark] .colab-df-convert {\n",
              "      background-color: #3B4455;\n",
              "      fill: #D2E3FC;\n",
              "    }\n",
              "\n",
              "    [theme=dark] .colab-df-convert:hover {\n",
              "      background-color: #434B5C;\n",
              "      box-shadow: 0px 1px 3px 1px rgba(0, 0, 0, 0.15);\n",
              "      filter: drop-shadow(0px 1px 2px rgba(0, 0, 0, 0.3));\n",
              "      fill: #FFFFFF;\n",
              "    }\n",
              "  </style>\n",
              "\n",
              "      <script>\n",
              "        const buttonEl =\n",
              "          document.querySelector('#df-df29947e-731a-4cd2-b94d-8fb5a6bf3d78 button.colab-df-convert');\n",
              "        buttonEl.style.display =\n",
              "          google.colab.kernel.accessAllowed ? 'block' : 'none';\n",
              "\n",
              "        async function convertToInteractive(key) {\n",
              "          const element = document.querySelector('#df-df29947e-731a-4cd2-b94d-8fb5a6bf3d78');\n",
              "          const dataTable =\n",
              "            await google.colab.kernel.invokeFunction('convertToInteractive',\n",
              "                                                     [key], {});\n",
              "          if (!dataTable) return;\n",
              "\n",
              "          const docLinkHtml = 'Like what you see? Visit the ' +\n",
              "            '<a target=\"_blank\" href=https://colab.research.google.com/notebooks/data_table.ipynb>data table notebook</a>'\n",
              "            + ' to learn more about interactive tables.';\n",
              "          element.innerHTML = '';\n",
              "          dataTable['output_type'] = 'display_data';\n",
              "          await google.colab.output.renderOutput(dataTable, element);\n",
              "          const docLink = document.createElement('div');\n",
              "          docLink.innerHTML = docLinkHtml;\n",
              "          element.appendChild(docLink);\n",
              "        }\n",
              "      </script>\n",
              "    </div>\n",
              "  </div>\n",
              "  "
            ]
          },
          "metadata": {},
          "execution_count": 57
        }
      ],
      "source": [
        "frames = [de, fr, uk]\n",
        "\n",
        "df_concat = pd.concat(frames)\n",
        "\n",
        "print(df_concat.shape)\n",
        "\n",
        "# display first rows\n",
        "df_concat.head()"
      ]
    },
    {
      "cell_type": "code",
      "execution_count": null,
      "metadata": {
        "id": "uCKOn1kI_dfb",
        "outputId": "ac24ae46-9ec3-4c64-9d8f-d6813dd9fbb6",
        "colab": {
          "base_uri": "https://localhost:8080/",
          "height": 391
        }
      },
      "outputs": [
        {
          "output_type": "execute_result",
          "data": {
            "text/plain": [
              "          Date         Name Mannschaft  Rohe Präsenz (min)  Pause (Minuten)  \\\n",
              "264 2022-04-14  Employee_24        NaN                 NaN              NaN   \n",
              "265 2022-04-24  Employee_24        NaN                 NaN              NaN   \n",
              "266 2022-04-29  Employee_24        NaN                 NaN              NaN   \n",
              "267 2022-04-24  Employee_25        NaN                 NaN              NaN   \n",
              "268 2022-04-29  Employee_26        NaN                 NaN              NaN   \n",
              "\n",
              "     Nettopräsenz (Min.)  Behandlung (min)       DMT  Productiviy  \\\n",
              "264                  NaN               NaN       NaN          NaN   \n",
              "265                  NaN               NaN  0.008461          NaN   \n",
              "266                  NaN               NaN  0.003194          NaN   \n",
              "267                  NaN               NaN  0.008461          NaN   \n",
              "268                  NaN               NaN  0.003194          NaN   \n",
              "\n",
              "     Processed tickets  Closed Tickets  FTE (processed)  FTE (presence)  \\\n",
              "264                0.0             NaN              NaN             0.5   \n",
              "265                3.0             NaN              NaN             0.5   \n",
              "266               14.0             NaN              NaN             1.0   \n",
              "267                3.0             NaN              NaN             0.5   \n",
              "268               14.0             NaN              NaN             1.0   \n",
              "\n",
              "     FTE weighted Country Nom/Prénom EQUIPE  Présence brute (min)  \\\n",
              "264          0.00      UK        NaN    NaN                   NaN   \n",
              "265          0.00      UK        NaN    NaN                   NaN   \n",
              "266          0.25      UK        NaN    NaN                   NaN   \n",
              "267          0.00      UK        NaN    NaN                   NaN   \n",
              "268          0.25      UK        NaN    NaN                   NaN   \n",
              "\n",
              "     Pause (min)  Présente nette (min)  Traitement (min)  \\\n",
              "264          0.0                   NaN               NaN   \n",
              "265          0.0                   NaN               NaN   \n",
              "266          0.0                   NaN               NaN   \n",
              "267          0.0                   NaN               NaN   \n",
              "268          0.0                   NaN               NaN   \n",
              "\n",
              "     Productivité horaire  Tickets traités  Tickets clos  FTE (traitement)  \\\n",
              "264                   NaN              NaN           NaN               NaN   \n",
              "265                   NaN              NaN           NaN               NaN   \n",
              "266                   NaN              NaN           NaN               NaN   \n",
              "267                   NaN              NaN           NaN               NaN   \n",
              "268                   NaN              NaN           NaN               NaN   \n",
              "\n",
              "     FTE (présence)  FTE pondéré    Team  Presence  Presence net (min)  \\\n",
              "264             NaN          NaN  TEAM_4    123.00               123.0   \n",
              "265             NaN          NaN  TEAM_4    184.00               184.0   \n",
              "266             NaN          NaN  TEAM_4    441.00               441.0   \n",
              "267             NaN          NaN  TEAM_5      1.60               184.0   \n",
              "268             NaN          NaN  TEAM_5      3.41               441.0   \n",
              "\n",
              "     Processed (min)  Productivity hours  Closed tickets  FTE (process)  \n",
              "264              0.0                 0.0             0.0           0.00  \n",
              "265             36.0                 1.3             3.0           0.00  \n",
              "266             64.0                 1.5            11.0           0.25  \n",
              "267             36.0                 1.3             3.0           0.00  \n",
              "268             64.0                 1.5            11.0           0.25  "
            ],
            "text/html": [
              "\n",
              "  <div id=\"df-d2e818f0-8223-45ec-828f-b104d87380cc\">\n",
              "    <div class=\"colab-df-container\">\n",
              "      <div>\n",
              "<style scoped>\n",
              "    .dataframe tbody tr th:only-of-type {\n",
              "        vertical-align: middle;\n",
              "    }\n",
              "\n",
              "    .dataframe tbody tr th {\n",
              "        vertical-align: top;\n",
              "    }\n",
              "\n",
              "    .dataframe thead th {\n",
              "        text-align: right;\n",
              "    }\n",
              "</style>\n",
              "<table border=\"1\" class=\"dataframe\">\n",
              "  <thead>\n",
              "    <tr style=\"text-align: right;\">\n",
              "      <th></th>\n",
              "      <th>Date</th>\n",
              "      <th>Name</th>\n",
              "      <th>Mannschaft</th>\n",
              "      <th>Rohe Präsenz (min)</th>\n",
              "      <th>Pause (Minuten)</th>\n",
              "      <th>Nettopräsenz (Min.)</th>\n",
              "      <th>Behandlung (min)</th>\n",
              "      <th>DMT</th>\n",
              "      <th>Productiviy</th>\n",
              "      <th>Processed tickets</th>\n",
              "      <th>Closed Tickets</th>\n",
              "      <th>FTE (processed)</th>\n",
              "      <th>FTE (presence)</th>\n",
              "      <th>FTE weighted</th>\n",
              "      <th>Country</th>\n",
              "      <th>Nom/Prénom</th>\n",
              "      <th>EQUIPE</th>\n",
              "      <th>Présence brute (min)</th>\n",
              "      <th>Pause (min)</th>\n",
              "      <th>Présente nette (min)</th>\n",
              "      <th>Traitement (min)</th>\n",
              "      <th>Productivité horaire</th>\n",
              "      <th>Tickets traités</th>\n",
              "      <th>Tickets clos</th>\n",
              "      <th>FTE (traitement)</th>\n",
              "      <th>FTE (présence)</th>\n",
              "      <th>FTE pondéré</th>\n",
              "      <th>Team</th>\n",
              "      <th>Presence</th>\n",
              "      <th>Presence net (min)</th>\n",
              "      <th>Processed (min)</th>\n",
              "      <th>Productivity hours</th>\n",
              "      <th>Closed tickets</th>\n",
              "      <th>FTE (process)</th>\n",
              "    </tr>\n",
              "  </thead>\n",
              "  <tbody>\n",
              "    <tr>\n",
              "      <th>264</th>\n",
              "      <td>2022-04-14</td>\n",
              "      <td>Employee_24</td>\n",
              "      <td>NaN</td>\n",
              "      <td>NaN</td>\n",
              "      <td>NaN</td>\n",
              "      <td>NaN</td>\n",
              "      <td>NaN</td>\n",
              "      <td>NaN</td>\n",
              "      <td>NaN</td>\n",
              "      <td>0.0</td>\n",
              "      <td>NaN</td>\n",
              "      <td>NaN</td>\n",
              "      <td>0.5</td>\n",
              "      <td>0.00</td>\n",
              "      <td>UK</td>\n",
              "      <td>NaN</td>\n",
              "      <td>NaN</td>\n",
              "      <td>NaN</td>\n",
              "      <td>0.0</td>\n",
              "      <td>NaN</td>\n",
              "      <td>NaN</td>\n",
              "      <td>NaN</td>\n",
              "      <td>NaN</td>\n",
              "      <td>NaN</td>\n",
              "      <td>NaN</td>\n",
              "      <td>NaN</td>\n",
              "      <td>NaN</td>\n",
              "      <td>TEAM_4</td>\n",
              "      <td>123.00</td>\n",
              "      <td>123.0</td>\n",
              "      <td>0.0</td>\n",
              "      <td>0.0</td>\n",
              "      <td>0.0</td>\n",
              "      <td>0.00</td>\n",
              "    </tr>\n",
              "    <tr>\n",
              "      <th>265</th>\n",
              "      <td>2022-04-24</td>\n",
              "      <td>Employee_24</td>\n",
              "      <td>NaN</td>\n",
              "      <td>NaN</td>\n",
              "      <td>NaN</td>\n",
              "      <td>NaN</td>\n",
              "      <td>NaN</td>\n",
              "      <td>0.008461</td>\n",
              "      <td>NaN</td>\n",
              "      <td>3.0</td>\n",
              "      <td>NaN</td>\n",
              "      <td>NaN</td>\n",
              "      <td>0.5</td>\n",
              "      <td>0.00</td>\n",
              "      <td>UK</td>\n",
              "      <td>NaN</td>\n",
              "      <td>NaN</td>\n",
              "      <td>NaN</td>\n",
              "      <td>0.0</td>\n",
              "      <td>NaN</td>\n",
              "      <td>NaN</td>\n",
              "      <td>NaN</td>\n",
              "      <td>NaN</td>\n",
              "      <td>NaN</td>\n",
              "      <td>NaN</td>\n",
              "      <td>NaN</td>\n",
              "      <td>NaN</td>\n",
              "      <td>TEAM_4</td>\n",
              "      <td>184.00</td>\n",
              "      <td>184.0</td>\n",
              "      <td>36.0</td>\n",
              "      <td>1.3</td>\n",
              "      <td>3.0</td>\n",
              "      <td>0.00</td>\n",
              "    </tr>\n",
              "    <tr>\n",
              "      <th>266</th>\n",
              "      <td>2022-04-29</td>\n",
              "      <td>Employee_24</td>\n",
              "      <td>NaN</td>\n",
              "      <td>NaN</td>\n",
              "      <td>NaN</td>\n",
              "      <td>NaN</td>\n",
              "      <td>NaN</td>\n",
              "      <td>0.003194</td>\n",
              "      <td>NaN</td>\n",
              "      <td>14.0</td>\n",
              "      <td>NaN</td>\n",
              "      <td>NaN</td>\n",
              "      <td>1.0</td>\n",
              "      <td>0.25</td>\n",
              "      <td>UK</td>\n",
              "      <td>NaN</td>\n",
              "      <td>NaN</td>\n",
              "      <td>NaN</td>\n",
              "      <td>0.0</td>\n",
              "      <td>NaN</td>\n",
              "      <td>NaN</td>\n",
              "      <td>NaN</td>\n",
              "      <td>NaN</td>\n",
              "      <td>NaN</td>\n",
              "      <td>NaN</td>\n",
              "      <td>NaN</td>\n",
              "      <td>NaN</td>\n",
              "      <td>TEAM_4</td>\n",
              "      <td>441.00</td>\n",
              "      <td>441.0</td>\n",
              "      <td>64.0</td>\n",
              "      <td>1.5</td>\n",
              "      <td>11.0</td>\n",
              "      <td>0.25</td>\n",
              "    </tr>\n",
              "    <tr>\n",
              "      <th>267</th>\n",
              "      <td>2022-04-24</td>\n",
              "      <td>Employee_25</td>\n",
              "      <td>NaN</td>\n",
              "      <td>NaN</td>\n",
              "      <td>NaN</td>\n",
              "      <td>NaN</td>\n",
              "      <td>NaN</td>\n",
              "      <td>0.008461</td>\n",
              "      <td>NaN</td>\n",
              "      <td>3.0</td>\n",
              "      <td>NaN</td>\n",
              "      <td>NaN</td>\n",
              "      <td>0.5</td>\n",
              "      <td>0.00</td>\n",
              "      <td>UK</td>\n",
              "      <td>NaN</td>\n",
              "      <td>NaN</td>\n",
              "      <td>NaN</td>\n",
              "      <td>0.0</td>\n",
              "      <td>NaN</td>\n",
              "      <td>NaN</td>\n",
              "      <td>NaN</td>\n",
              "      <td>NaN</td>\n",
              "      <td>NaN</td>\n",
              "      <td>NaN</td>\n",
              "      <td>NaN</td>\n",
              "      <td>NaN</td>\n",
              "      <td>TEAM_5</td>\n",
              "      <td>1.60</td>\n",
              "      <td>184.0</td>\n",
              "      <td>36.0</td>\n",
              "      <td>1.3</td>\n",
              "      <td>3.0</td>\n",
              "      <td>0.00</td>\n",
              "    </tr>\n",
              "    <tr>\n",
              "      <th>268</th>\n",
              "      <td>2022-04-29</td>\n",
              "      <td>Employee_26</td>\n",
              "      <td>NaN</td>\n",
              "      <td>NaN</td>\n",
              "      <td>NaN</td>\n",
              "      <td>NaN</td>\n",
              "      <td>NaN</td>\n",
              "      <td>0.003194</td>\n",
              "      <td>NaN</td>\n",
              "      <td>14.0</td>\n",
              "      <td>NaN</td>\n",
              "      <td>NaN</td>\n",
              "      <td>1.0</td>\n",
              "      <td>0.25</td>\n",
              "      <td>UK</td>\n",
              "      <td>NaN</td>\n",
              "      <td>NaN</td>\n",
              "      <td>NaN</td>\n",
              "      <td>0.0</td>\n",
              "      <td>NaN</td>\n",
              "      <td>NaN</td>\n",
              "      <td>NaN</td>\n",
              "      <td>NaN</td>\n",
              "      <td>NaN</td>\n",
              "      <td>NaN</td>\n",
              "      <td>NaN</td>\n",
              "      <td>NaN</td>\n",
              "      <td>TEAM_5</td>\n",
              "      <td>3.41</td>\n",
              "      <td>441.0</td>\n",
              "      <td>64.0</td>\n",
              "      <td>1.5</td>\n",
              "      <td>11.0</td>\n",
              "      <td>0.25</td>\n",
              "    </tr>\n",
              "  </tbody>\n",
              "</table>\n",
              "</div>\n",
              "      <button class=\"colab-df-convert\" onclick=\"convertToInteractive('df-d2e818f0-8223-45ec-828f-b104d87380cc')\"\n",
              "              title=\"Convert this dataframe to an interactive table.\"\n",
              "              style=\"display:none;\">\n",
              "        \n",
              "  <svg xmlns=\"http://www.w3.org/2000/svg\" height=\"24px\"viewBox=\"0 0 24 24\"\n",
              "       width=\"24px\">\n",
              "    <path d=\"M0 0h24v24H0V0z\" fill=\"none\"/>\n",
              "    <path d=\"M18.56 5.44l.94 2.06.94-2.06 2.06-.94-2.06-.94-.94-2.06-.94 2.06-2.06.94zm-11 1L8.5 8.5l.94-2.06 2.06-.94-2.06-.94L8.5 2.5l-.94 2.06-2.06.94zm10 10l.94 2.06.94-2.06 2.06-.94-2.06-.94-.94-2.06-.94 2.06-2.06.94z\"/><path d=\"M17.41 7.96l-1.37-1.37c-.4-.4-.92-.59-1.43-.59-.52 0-1.04.2-1.43.59L10.3 9.45l-7.72 7.72c-.78.78-.78 2.05 0 2.83L4 21.41c.39.39.9.59 1.41.59.51 0 1.02-.2 1.41-.59l7.78-7.78 2.81-2.81c.8-.78.8-2.07 0-2.86zM5.41 20L4 18.59l7.72-7.72 1.47 1.35L5.41 20z\"/>\n",
              "  </svg>\n",
              "      </button>\n",
              "      \n",
              "  <style>\n",
              "    .colab-df-container {\n",
              "      display:flex;\n",
              "      flex-wrap:wrap;\n",
              "      gap: 12px;\n",
              "    }\n",
              "\n",
              "    .colab-df-convert {\n",
              "      background-color: #E8F0FE;\n",
              "      border: none;\n",
              "      border-radius: 50%;\n",
              "      cursor: pointer;\n",
              "      display: none;\n",
              "      fill: #1967D2;\n",
              "      height: 32px;\n",
              "      padding: 0 0 0 0;\n",
              "      width: 32px;\n",
              "    }\n",
              "\n",
              "    .colab-df-convert:hover {\n",
              "      background-color: #E2EBFA;\n",
              "      box-shadow: 0px 1px 2px rgba(60, 64, 67, 0.3), 0px 1px 3px 1px rgba(60, 64, 67, 0.15);\n",
              "      fill: #174EA6;\n",
              "    }\n",
              "\n",
              "    [theme=dark] .colab-df-convert {\n",
              "      background-color: #3B4455;\n",
              "      fill: #D2E3FC;\n",
              "    }\n",
              "\n",
              "    [theme=dark] .colab-df-convert:hover {\n",
              "      background-color: #434B5C;\n",
              "      box-shadow: 0px 1px 3px 1px rgba(0, 0, 0, 0.15);\n",
              "      filter: drop-shadow(0px 1px 2px rgba(0, 0, 0, 0.3));\n",
              "      fill: #FFFFFF;\n",
              "    }\n",
              "  </style>\n",
              "\n",
              "      <script>\n",
              "        const buttonEl =\n",
              "          document.querySelector('#df-d2e818f0-8223-45ec-828f-b104d87380cc button.colab-df-convert');\n",
              "        buttonEl.style.display =\n",
              "          google.colab.kernel.accessAllowed ? 'block' : 'none';\n",
              "\n",
              "        async function convertToInteractive(key) {\n",
              "          const element = document.querySelector('#df-d2e818f0-8223-45ec-828f-b104d87380cc');\n",
              "          const dataTable =\n",
              "            await google.colab.kernel.invokeFunction('convertToInteractive',\n",
              "                                                     [key], {});\n",
              "          if (!dataTable) return;\n",
              "\n",
              "          const docLinkHtml = 'Like what you see? Visit the ' +\n",
              "            '<a target=\"_blank\" href=https://colab.research.google.com/notebooks/data_table.ipynb>data table notebook</a>'\n",
              "            + ' to learn more about interactive tables.';\n",
              "          element.innerHTML = '';\n",
              "          dataTable['output_type'] = 'display_data';\n",
              "          await google.colab.output.renderOutput(dataTable, element);\n",
              "          const docLink = document.createElement('div');\n",
              "          docLink.innerHTML = docLinkHtml;\n",
              "          element.appendChild(docLink);\n",
              "        }\n",
              "      </script>\n",
              "    </div>\n",
              "  </div>\n",
              "  "
            ]
          },
          "metadata": {},
          "execution_count": 58
        }
      ],
      "source": [
        "# diplay last rows\n",
        "df_concat.tail()"
      ]
    },
    {
      "cell_type": "code",
      "execution_count": null,
      "metadata": {
        "id": "t_eBZayU_dfc",
        "outputId": "84ca84d9-0b77-4188-dd78-77b49744780d",
        "colab": {
          "base_uri": "https://localhost:8080/"
        }
      },
      "outputs": [
        {
          "output_type": "stream",
          "name": "stdout",
          "text": [
            "Column nb of DE:  15 Index(['Date', 'Name', 'Mannschaft', 'Rohe Präsenz (min)', 'Pause (Minuten)',\n",
            "       'Nettopräsenz (Min.)', 'Behandlung (min)', 'DMT', 'Productiviy',\n",
            "       'Processed tickets', 'Closed Tickets', 'FTE (processed)',\n",
            "       'FTE (presence)', 'FTE weighted', 'Country'],\n",
            "      dtype='object')\n",
            "Column nb of FR:  15 Index(['Date', 'Nom/Prénom', 'EQUIPE', 'Présence brute (min)', 'Pause (min)',\n",
            "       'Présente nette (min)', 'Traitement (min)', 'DMT',\n",
            "       'Productivité horaire', 'Tickets traités', 'Tickets clos',\n",
            "       'FTE (traitement)', 'FTE (présence)', 'FTE pondéré', 'Country'],\n",
            "      dtype='object')\n",
            "Column nb of UK:  15 Index(['Date', 'Name', 'Team', 'Presence', 'Pause (min)', 'Presence net (min)',\n",
            "       'Processed (min)', 'DMT', 'Productivity hours', 'Processed tickets',\n",
            "       'Closed tickets', 'FTE (process)', 'FTE (presence)', 'FTE weighted',\n",
            "       'Country'],\n",
            "      dtype='object')\n"
          ]
        }
      ],
      "source": [
        "# to consolidate multiple dataframes, there are 3 rules:\n",
        "# they have to have the same nb of columns (here all 3 df have 15 columns)\n",
        "# to concatenate by column names, all df have to have the same column names\n",
        "# the dfs must have same column order\n",
        "\n",
        "print(\"Column nb of DE: \", len(de.columns), de.columns)\n",
        "print(\"Column nb of FR: \", len(fr.columns), fr.columns)\n",
        "print(\"Column nb of UK: \", len(uk.columns), uk.columns)"
      ]
    },
    {
      "cell_type": "code",
      "execution_count": null,
      "metadata": {
        "id": "ncF6rqze_dfc",
        "outputId": "a1d76aa2-7f98-4925-f6d7-3eecfdcd984b",
        "colab": {
          "base_uri": "https://localhost:8080/"
        }
      },
      "outputs": [
        {
          "output_type": "stream",
          "name": "stdout",
          "text": [
            "Column nb of DE:  15 Index(['Date', 'Name', 'Team', 'Presence', 'Pause (min)', 'Presence net (min)',\n",
            "       'Processed (min)', 'DMT', 'Productivity hours', 'Processed tickets',\n",
            "       'Closed tickets', 'FTE (process)', 'FTE (presence)', 'FTE weighted',\n",
            "       'Country'],\n",
            "      dtype='object')\n",
            "Column nb of FR:  15 Index(['Date', 'Name', 'Team', 'Presence', 'Pause (min)', 'Presence net (min)',\n",
            "       'Processed (min)', 'DMT', 'Productivity hours', 'Processed tickets',\n",
            "       'Closed tickets', 'FTE (process)', 'FTE (presence)', 'FTE weighted',\n",
            "       'Country'],\n",
            "      dtype='object')\n",
            "Column nb of UK:  15 Index(['Date', 'Name', 'Team', 'Presence', 'Pause (min)', 'Presence net (min)',\n",
            "       'Processed (min)', 'DMT', 'Productivity hours', 'Processed tickets',\n",
            "       'Closed tickets', 'FTE (process)', 'FTE (presence)', 'FTE weighted',\n",
            "       'Country'],\n",
            "      dtype='object')\n"
          ]
        }
      ],
      "source": [
        "# rename the dfs columns o they would be identical\n",
        "# we will use english column names for all dfs\n",
        "\n",
        "columns = uk.columns\n",
        "\n",
        "fr.columns = columns\n",
        "de.columns = columns\n",
        "\n",
        "print(\"Column nb of DE: \", len(de.columns), de.columns)\n",
        "print(\"Column nb of FR: \", len(fr.columns), fr.columns)\n",
        "print(\"Column nb of UK: \", len(uk.columns), uk.columns)"
      ]
    },
    {
      "cell_type": "code",
      "execution_count": null,
      "metadata": {
        "id": "sLHprNJd_dfd",
        "outputId": "07d36d3e-7201-48af-cce1-d51346fe15af",
        "colab": {
          "base_uri": "https://localhost:8080/",
          "height": 409
        }
      },
      "outputs": [
        {
          "output_type": "stream",
          "name": "stdout",
          "text": [
            "(1209, 15)\n"
          ]
        },
        {
          "output_type": "execute_result",
          "data": {
            "text/plain": [
              "        Date        Name    Team  Presence  Pause (min)  Presence net (min)  \\\n",
              "0 2022-04-12  Employee_1  TEAM_1     102.0          0.0                 102   \n",
              "1 2022-04-13  Employee_1  TEAM_1     299.0          0.0                 299   \n",
              "2 2022-04-19  Employee_1  TEAM_1     478.0          0.0                 478   \n",
              "3 2022-04-20  Employee_1  TEAM_1     427.0          0.0                 427   \n",
              "4 2022-04-21  Employee_1  TEAM_1     482.0          0.0                 482   \n",
              "\n",
              "   Processed (min)       DMT  Productivity hours  Processed tickets  \\\n",
              "0                4  00:02:08                 0.6                  2   \n",
              "1              168  00:42:00                 0.4                  4   \n",
              "2              275  00:16:12                 2.0                 17   \n",
              "3              142  00:12:56                 1.4                 11   \n",
              "4              129  00:16:12                 1.0                  8   \n",
              "\n",
              "   Closed tickets  FTE (process)  FTE (presence)  FTE weighted Country  \n",
              "0               1           0.00            0.25          0.00      DE  \n",
              "1               2           0.50            0.75          0.50      DE  \n",
              "2              16           0.75            1.00          0.75      DE  \n",
              "3              10           0.50            1.00          0.50      DE  \n",
              "4               8           0.50            1.00          0.50      DE  "
            ],
            "text/html": [
              "\n",
              "  <div id=\"df-04b84010-1261-4712-9048-43b2c4eec433\">\n",
              "    <div class=\"colab-df-container\">\n",
              "      <div>\n",
              "<style scoped>\n",
              "    .dataframe tbody tr th:only-of-type {\n",
              "        vertical-align: middle;\n",
              "    }\n",
              "\n",
              "    .dataframe tbody tr th {\n",
              "        vertical-align: top;\n",
              "    }\n",
              "\n",
              "    .dataframe thead th {\n",
              "        text-align: right;\n",
              "    }\n",
              "</style>\n",
              "<table border=\"1\" class=\"dataframe\">\n",
              "  <thead>\n",
              "    <tr style=\"text-align: right;\">\n",
              "      <th></th>\n",
              "      <th>Date</th>\n",
              "      <th>Name</th>\n",
              "      <th>Team</th>\n",
              "      <th>Presence</th>\n",
              "      <th>Pause (min)</th>\n",
              "      <th>Presence net (min)</th>\n",
              "      <th>Processed (min)</th>\n",
              "      <th>DMT</th>\n",
              "      <th>Productivity hours</th>\n",
              "      <th>Processed tickets</th>\n",
              "      <th>Closed tickets</th>\n",
              "      <th>FTE (process)</th>\n",
              "      <th>FTE (presence)</th>\n",
              "      <th>FTE weighted</th>\n",
              "      <th>Country</th>\n",
              "    </tr>\n",
              "  </thead>\n",
              "  <tbody>\n",
              "    <tr>\n",
              "      <th>0</th>\n",
              "      <td>2022-04-12</td>\n",
              "      <td>Employee_1</td>\n",
              "      <td>TEAM_1</td>\n",
              "      <td>102.0</td>\n",
              "      <td>0.0</td>\n",
              "      <td>102</td>\n",
              "      <td>4</td>\n",
              "      <td>00:02:08</td>\n",
              "      <td>0.6</td>\n",
              "      <td>2</td>\n",
              "      <td>1</td>\n",
              "      <td>0.00</td>\n",
              "      <td>0.25</td>\n",
              "      <td>0.00</td>\n",
              "      <td>DE</td>\n",
              "    </tr>\n",
              "    <tr>\n",
              "      <th>1</th>\n",
              "      <td>2022-04-13</td>\n",
              "      <td>Employee_1</td>\n",
              "      <td>TEAM_1</td>\n",
              "      <td>299.0</td>\n",
              "      <td>0.0</td>\n",
              "      <td>299</td>\n",
              "      <td>168</td>\n",
              "      <td>00:42:00</td>\n",
              "      <td>0.4</td>\n",
              "      <td>4</td>\n",
              "      <td>2</td>\n",
              "      <td>0.50</td>\n",
              "      <td>0.75</td>\n",
              "      <td>0.50</td>\n",
              "      <td>DE</td>\n",
              "    </tr>\n",
              "    <tr>\n",
              "      <th>2</th>\n",
              "      <td>2022-04-19</td>\n",
              "      <td>Employee_1</td>\n",
              "      <td>TEAM_1</td>\n",
              "      <td>478.0</td>\n",
              "      <td>0.0</td>\n",
              "      <td>478</td>\n",
              "      <td>275</td>\n",
              "      <td>00:16:12</td>\n",
              "      <td>2.0</td>\n",
              "      <td>17</td>\n",
              "      <td>16</td>\n",
              "      <td>0.75</td>\n",
              "      <td>1.00</td>\n",
              "      <td>0.75</td>\n",
              "      <td>DE</td>\n",
              "    </tr>\n",
              "    <tr>\n",
              "      <th>3</th>\n",
              "      <td>2022-04-20</td>\n",
              "      <td>Employee_1</td>\n",
              "      <td>TEAM_1</td>\n",
              "      <td>427.0</td>\n",
              "      <td>0.0</td>\n",
              "      <td>427</td>\n",
              "      <td>142</td>\n",
              "      <td>00:12:56</td>\n",
              "      <td>1.4</td>\n",
              "      <td>11</td>\n",
              "      <td>10</td>\n",
              "      <td>0.50</td>\n",
              "      <td>1.00</td>\n",
              "      <td>0.50</td>\n",
              "      <td>DE</td>\n",
              "    </tr>\n",
              "    <tr>\n",
              "      <th>4</th>\n",
              "      <td>2022-04-21</td>\n",
              "      <td>Employee_1</td>\n",
              "      <td>TEAM_1</td>\n",
              "      <td>482.0</td>\n",
              "      <td>0.0</td>\n",
              "      <td>482</td>\n",
              "      <td>129</td>\n",
              "      <td>00:16:12</td>\n",
              "      <td>1.0</td>\n",
              "      <td>8</td>\n",
              "      <td>8</td>\n",
              "      <td>0.50</td>\n",
              "      <td>1.00</td>\n",
              "      <td>0.50</td>\n",
              "      <td>DE</td>\n",
              "    </tr>\n",
              "  </tbody>\n",
              "</table>\n",
              "</div>\n",
              "      <button class=\"colab-df-convert\" onclick=\"convertToInteractive('df-04b84010-1261-4712-9048-43b2c4eec433')\"\n",
              "              title=\"Convert this dataframe to an interactive table.\"\n",
              "              style=\"display:none;\">\n",
              "        \n",
              "  <svg xmlns=\"http://www.w3.org/2000/svg\" height=\"24px\"viewBox=\"0 0 24 24\"\n",
              "       width=\"24px\">\n",
              "    <path d=\"M0 0h24v24H0V0z\" fill=\"none\"/>\n",
              "    <path d=\"M18.56 5.44l.94 2.06.94-2.06 2.06-.94-2.06-.94-.94-2.06-.94 2.06-2.06.94zm-11 1L8.5 8.5l.94-2.06 2.06-.94-2.06-.94L8.5 2.5l-.94 2.06-2.06.94zm10 10l.94 2.06.94-2.06 2.06-.94-2.06-.94-.94-2.06-.94 2.06-2.06.94z\"/><path d=\"M17.41 7.96l-1.37-1.37c-.4-.4-.92-.59-1.43-.59-.52 0-1.04.2-1.43.59L10.3 9.45l-7.72 7.72c-.78.78-.78 2.05 0 2.83L4 21.41c.39.39.9.59 1.41.59.51 0 1.02-.2 1.41-.59l7.78-7.78 2.81-2.81c.8-.78.8-2.07 0-2.86zM5.41 20L4 18.59l7.72-7.72 1.47 1.35L5.41 20z\"/>\n",
              "  </svg>\n",
              "      </button>\n",
              "      \n",
              "  <style>\n",
              "    .colab-df-container {\n",
              "      display:flex;\n",
              "      flex-wrap:wrap;\n",
              "      gap: 12px;\n",
              "    }\n",
              "\n",
              "    .colab-df-convert {\n",
              "      background-color: #E8F0FE;\n",
              "      border: none;\n",
              "      border-radius: 50%;\n",
              "      cursor: pointer;\n",
              "      display: none;\n",
              "      fill: #1967D2;\n",
              "      height: 32px;\n",
              "      padding: 0 0 0 0;\n",
              "      width: 32px;\n",
              "    }\n",
              "\n",
              "    .colab-df-convert:hover {\n",
              "      background-color: #E2EBFA;\n",
              "      box-shadow: 0px 1px 2px rgba(60, 64, 67, 0.3), 0px 1px 3px 1px rgba(60, 64, 67, 0.15);\n",
              "      fill: #174EA6;\n",
              "    }\n",
              "\n",
              "    [theme=dark] .colab-df-convert {\n",
              "      background-color: #3B4455;\n",
              "      fill: #D2E3FC;\n",
              "    }\n",
              "\n",
              "    [theme=dark] .colab-df-convert:hover {\n",
              "      background-color: #434B5C;\n",
              "      box-shadow: 0px 1px 3px 1px rgba(0, 0, 0, 0.15);\n",
              "      filter: drop-shadow(0px 1px 2px rgba(0, 0, 0, 0.3));\n",
              "      fill: #FFFFFF;\n",
              "    }\n",
              "  </style>\n",
              "\n",
              "      <script>\n",
              "        const buttonEl =\n",
              "          document.querySelector('#df-04b84010-1261-4712-9048-43b2c4eec433 button.colab-df-convert');\n",
              "        buttonEl.style.display =\n",
              "          google.colab.kernel.accessAllowed ? 'block' : 'none';\n",
              "\n",
              "        async function convertToInteractive(key) {\n",
              "          const element = document.querySelector('#df-04b84010-1261-4712-9048-43b2c4eec433');\n",
              "          const dataTable =\n",
              "            await google.colab.kernel.invokeFunction('convertToInteractive',\n",
              "                                                     [key], {});\n",
              "          if (!dataTable) return;\n",
              "\n",
              "          const docLinkHtml = 'Like what you see? Visit the ' +\n",
              "            '<a target=\"_blank\" href=https://colab.research.google.com/notebooks/data_table.ipynb>data table notebook</a>'\n",
              "            + ' to learn more about interactive tables.';\n",
              "          element.innerHTML = '';\n",
              "          dataTable['output_type'] = 'display_data';\n",
              "          await google.colab.output.renderOutput(dataTable, element);\n",
              "          const docLink = document.createElement('div');\n",
              "          docLink.innerHTML = docLinkHtml;\n",
              "          element.appendChild(docLink);\n",
              "        }\n",
              "      </script>\n",
              "    </div>\n",
              "  </div>\n",
              "  "
            ]
          },
          "metadata": {},
          "execution_count": 61
        }
      ],
      "source": [
        "# this time the concatenation of dfs is correct\n",
        "\n",
        "df_concat = pd.concat(frames)\n",
        "\n",
        "print(df_concat.shape)\n",
        "df_concat.head()"
      ]
    },
    {
      "cell_type": "code",
      "execution_count": null,
      "metadata": {
        "id": "AY7QuVbE_dfd",
        "outputId": "8055cb27-c1c7-4bb8-9345-aa09115a4908",
        "colab": {
          "base_uri": "https://localhost:8080/",
          "height": 391
        }
      },
      "outputs": [
        {
          "output_type": "execute_result",
          "data": {
            "text/plain": [
              "          Date         Name    Team  Presence  Pause (min)  \\\n",
              "264 2022-04-14  Employee_24  TEAM_4    123.00          0.0   \n",
              "265 2022-04-24  Employee_24  TEAM_4    184.00          0.0   \n",
              "266 2022-04-29  Employee_24  TEAM_4    441.00          0.0   \n",
              "267 2022-04-24  Employee_25  TEAM_5      1.60          0.0   \n",
              "268 2022-04-29  Employee_26  TEAM_5      3.41          0.0   \n",
              "\n",
              "     Presence net (min)  Processed (min)       DMT  Productivity hours  \\\n",
              "264                 123                0       NaN                 0.0   \n",
              "265                 184               36  0.008461                 1.3   \n",
              "266                 441               64  0.003194                 1.5   \n",
              "267                 184               36  0.008461                 1.3   \n",
              "268                 441               64  0.003194                 1.5   \n",
              "\n",
              "     Processed tickets  Closed tickets  FTE (process)  FTE (presence)  \\\n",
              "264                  0               0           0.00             0.5   \n",
              "265                  3               3           0.00             0.5   \n",
              "266                 14              11           0.25             1.0   \n",
              "267                  3               3           0.00             0.5   \n",
              "268                 14              11           0.25             1.0   \n",
              "\n",
              "     FTE weighted Country  \n",
              "264          0.00      UK  \n",
              "265          0.00      UK  \n",
              "266          0.25      UK  \n",
              "267          0.00      UK  \n",
              "268          0.25      UK  "
            ],
            "text/html": [
              "\n",
              "  <div id=\"df-29cfb6c9-1d76-4d32-9af6-b58a2c2a6666\">\n",
              "    <div class=\"colab-df-container\">\n",
              "      <div>\n",
              "<style scoped>\n",
              "    .dataframe tbody tr th:only-of-type {\n",
              "        vertical-align: middle;\n",
              "    }\n",
              "\n",
              "    .dataframe tbody tr th {\n",
              "        vertical-align: top;\n",
              "    }\n",
              "\n",
              "    .dataframe thead th {\n",
              "        text-align: right;\n",
              "    }\n",
              "</style>\n",
              "<table border=\"1\" class=\"dataframe\">\n",
              "  <thead>\n",
              "    <tr style=\"text-align: right;\">\n",
              "      <th></th>\n",
              "      <th>Date</th>\n",
              "      <th>Name</th>\n",
              "      <th>Team</th>\n",
              "      <th>Presence</th>\n",
              "      <th>Pause (min)</th>\n",
              "      <th>Presence net (min)</th>\n",
              "      <th>Processed (min)</th>\n",
              "      <th>DMT</th>\n",
              "      <th>Productivity hours</th>\n",
              "      <th>Processed tickets</th>\n",
              "      <th>Closed tickets</th>\n",
              "      <th>FTE (process)</th>\n",
              "      <th>FTE (presence)</th>\n",
              "      <th>FTE weighted</th>\n",
              "      <th>Country</th>\n",
              "    </tr>\n",
              "  </thead>\n",
              "  <tbody>\n",
              "    <tr>\n",
              "      <th>264</th>\n",
              "      <td>2022-04-14</td>\n",
              "      <td>Employee_24</td>\n",
              "      <td>TEAM_4</td>\n",
              "      <td>123.00</td>\n",
              "      <td>0.0</td>\n",
              "      <td>123</td>\n",
              "      <td>0</td>\n",
              "      <td>NaN</td>\n",
              "      <td>0.0</td>\n",
              "      <td>0</td>\n",
              "      <td>0</td>\n",
              "      <td>0.00</td>\n",
              "      <td>0.5</td>\n",
              "      <td>0.00</td>\n",
              "      <td>UK</td>\n",
              "    </tr>\n",
              "    <tr>\n",
              "      <th>265</th>\n",
              "      <td>2022-04-24</td>\n",
              "      <td>Employee_24</td>\n",
              "      <td>TEAM_4</td>\n",
              "      <td>184.00</td>\n",
              "      <td>0.0</td>\n",
              "      <td>184</td>\n",
              "      <td>36</td>\n",
              "      <td>0.008461</td>\n",
              "      <td>1.3</td>\n",
              "      <td>3</td>\n",
              "      <td>3</td>\n",
              "      <td>0.00</td>\n",
              "      <td>0.5</td>\n",
              "      <td>0.00</td>\n",
              "      <td>UK</td>\n",
              "    </tr>\n",
              "    <tr>\n",
              "      <th>266</th>\n",
              "      <td>2022-04-29</td>\n",
              "      <td>Employee_24</td>\n",
              "      <td>TEAM_4</td>\n",
              "      <td>441.00</td>\n",
              "      <td>0.0</td>\n",
              "      <td>441</td>\n",
              "      <td>64</td>\n",
              "      <td>0.003194</td>\n",
              "      <td>1.5</td>\n",
              "      <td>14</td>\n",
              "      <td>11</td>\n",
              "      <td>0.25</td>\n",
              "      <td>1.0</td>\n",
              "      <td>0.25</td>\n",
              "      <td>UK</td>\n",
              "    </tr>\n",
              "    <tr>\n",
              "      <th>267</th>\n",
              "      <td>2022-04-24</td>\n",
              "      <td>Employee_25</td>\n",
              "      <td>TEAM_5</td>\n",
              "      <td>1.60</td>\n",
              "      <td>0.0</td>\n",
              "      <td>184</td>\n",
              "      <td>36</td>\n",
              "      <td>0.008461</td>\n",
              "      <td>1.3</td>\n",
              "      <td>3</td>\n",
              "      <td>3</td>\n",
              "      <td>0.00</td>\n",
              "      <td>0.5</td>\n",
              "      <td>0.00</td>\n",
              "      <td>UK</td>\n",
              "    </tr>\n",
              "    <tr>\n",
              "      <th>268</th>\n",
              "      <td>2022-04-29</td>\n",
              "      <td>Employee_26</td>\n",
              "      <td>TEAM_5</td>\n",
              "      <td>3.41</td>\n",
              "      <td>0.0</td>\n",
              "      <td>441</td>\n",
              "      <td>64</td>\n",
              "      <td>0.003194</td>\n",
              "      <td>1.5</td>\n",
              "      <td>14</td>\n",
              "      <td>11</td>\n",
              "      <td>0.25</td>\n",
              "      <td>1.0</td>\n",
              "      <td>0.25</td>\n",
              "      <td>UK</td>\n",
              "    </tr>\n",
              "  </tbody>\n",
              "</table>\n",
              "</div>\n",
              "      <button class=\"colab-df-convert\" onclick=\"convertToInteractive('df-29cfb6c9-1d76-4d32-9af6-b58a2c2a6666')\"\n",
              "              title=\"Convert this dataframe to an interactive table.\"\n",
              "              style=\"display:none;\">\n",
              "        \n",
              "  <svg xmlns=\"http://www.w3.org/2000/svg\" height=\"24px\"viewBox=\"0 0 24 24\"\n",
              "       width=\"24px\">\n",
              "    <path d=\"M0 0h24v24H0V0z\" fill=\"none\"/>\n",
              "    <path d=\"M18.56 5.44l.94 2.06.94-2.06 2.06-.94-2.06-.94-.94-2.06-.94 2.06-2.06.94zm-11 1L8.5 8.5l.94-2.06 2.06-.94-2.06-.94L8.5 2.5l-.94 2.06-2.06.94zm10 10l.94 2.06.94-2.06 2.06-.94-2.06-.94-.94-2.06-.94 2.06-2.06.94z\"/><path d=\"M17.41 7.96l-1.37-1.37c-.4-.4-.92-.59-1.43-.59-.52 0-1.04.2-1.43.59L10.3 9.45l-7.72 7.72c-.78.78-.78 2.05 0 2.83L4 21.41c.39.39.9.59 1.41.59.51 0 1.02-.2 1.41-.59l7.78-7.78 2.81-2.81c.8-.78.8-2.07 0-2.86zM5.41 20L4 18.59l7.72-7.72 1.47 1.35L5.41 20z\"/>\n",
              "  </svg>\n",
              "      </button>\n",
              "      \n",
              "  <style>\n",
              "    .colab-df-container {\n",
              "      display:flex;\n",
              "      flex-wrap:wrap;\n",
              "      gap: 12px;\n",
              "    }\n",
              "\n",
              "    .colab-df-convert {\n",
              "      background-color: #E8F0FE;\n",
              "      border: none;\n",
              "      border-radius: 50%;\n",
              "      cursor: pointer;\n",
              "      display: none;\n",
              "      fill: #1967D2;\n",
              "      height: 32px;\n",
              "      padding: 0 0 0 0;\n",
              "      width: 32px;\n",
              "    }\n",
              "\n",
              "    .colab-df-convert:hover {\n",
              "      background-color: #E2EBFA;\n",
              "      box-shadow: 0px 1px 2px rgba(60, 64, 67, 0.3), 0px 1px 3px 1px rgba(60, 64, 67, 0.15);\n",
              "      fill: #174EA6;\n",
              "    }\n",
              "\n",
              "    [theme=dark] .colab-df-convert {\n",
              "      background-color: #3B4455;\n",
              "      fill: #D2E3FC;\n",
              "    }\n",
              "\n",
              "    [theme=dark] .colab-df-convert:hover {\n",
              "      background-color: #434B5C;\n",
              "      box-shadow: 0px 1px 3px 1px rgba(0, 0, 0, 0.15);\n",
              "      filter: drop-shadow(0px 1px 2px rgba(0, 0, 0, 0.3));\n",
              "      fill: #FFFFFF;\n",
              "    }\n",
              "  </style>\n",
              "\n",
              "      <script>\n",
              "        const buttonEl =\n",
              "          document.querySelector('#df-29cfb6c9-1d76-4d32-9af6-b58a2c2a6666 button.colab-df-convert');\n",
              "        buttonEl.style.display =\n",
              "          google.colab.kernel.accessAllowed ? 'block' : 'none';\n",
              "\n",
              "        async function convertToInteractive(key) {\n",
              "          const element = document.querySelector('#df-29cfb6c9-1d76-4d32-9af6-b58a2c2a6666');\n",
              "          const dataTable =\n",
              "            await google.colab.kernel.invokeFunction('convertToInteractive',\n",
              "                                                     [key], {});\n",
              "          if (!dataTable) return;\n",
              "\n",
              "          const docLinkHtml = 'Like what you see? Visit the ' +\n",
              "            '<a target=\"_blank\" href=https://colab.research.google.com/notebooks/data_table.ipynb>data table notebook</a>'\n",
              "            + ' to learn more about interactive tables.';\n",
              "          element.innerHTML = '';\n",
              "          dataTable['output_type'] = 'display_data';\n",
              "          await google.colab.output.renderOutput(dataTable, element);\n",
              "          const docLink = document.createElement('div');\n",
              "          docLink.innerHTML = docLinkHtml;\n",
              "          element.appendChild(docLink);\n",
              "        }\n",
              "      </script>\n",
              "    </div>\n",
              "  </div>\n",
              "  "
            ]
          },
          "metadata": {},
          "execution_count": 62
        }
      ],
      "source": [
        "# last rows\n",
        "df_concat.tail()"
      ]
    },
    {
      "cell_type": "code",
      "execution_count": null,
      "metadata": {
        "id": "_lWwQnt7_dfd"
      },
      "outputs": [],
      "source": [
        "# create excel writer in the Processed_Files with the name 'Consolidation'\n",
        "writer = pd.ExcelWriter('Processed_Files/Consolidation.xlsx')\n",
        "\n",
        "# write dataframe to excel sheet named 'marks'\n",
        "df_concat.to_excel(writer, 'Consolidation')\n",
        "\n",
        "# save the excel file\n",
        "writer.save()\n",
        "writer.close()"
      ]
    },
    {
      "cell_type": "markdown",
      "metadata": {
        "id": "ktm1SmGr_dfe"
      },
      "source": [
        "# Reinitiate original folder"
      ]
    },
    {
      "cell_type": "markdown",
      "source": [
        "***!!!!!    Execute this section if you are sure you want to remove files/folders !!!!***"
      ],
      "metadata": {
        "id": "-p9kawthUCMf"
      }
    },
    {
      "cell_type": "code",
      "execution_count": null,
      "metadata": {
        "id": "lcou2vbv_dfe"
      },
      "outputs": [],
      "source": [
        "os.listdir('.')"
      ]
    },
    {
      "cell_type": "code",
      "execution_count": null,
      "metadata": {
        "id": "TakbtTKp_dfe"
      },
      "outputs": [],
      "source": [
        "# delete Raw_Excel_Files to reinitiate the whole folder\n",
        "\n",
        "#shutil.rmtree('Processed_Files')\n",
        "#shutil.rmtree('Raw_Excel_Files') \n",
        "\n",
        "# empty file\n",
        "#os.rmdir('Old_Files')\n",
        "\n",
        "# remove files from cwd\n",
        "os.unlink('UK.xlsx')\n",
        "os.unlink('FR.xlsx')\n",
        "os.unlink('DE.xlsx')\n",
        "\n"
      ]
    },
    {
      "cell_type": "code",
      "source": [
        "os.listdir('/content')"
      ],
      "metadata": {
        "id": "lsnZqD0xToBn"
      },
      "execution_count": null,
      "outputs": []
    },
    {
      "cell_type": "code",
      "execution_count": null,
      "metadata": {
        "id": "9frgfoQc_dff"
      },
      "outputs": [],
      "source": [
        "# remove files from cwd\n",
        "\n",
        "os.unlink('/content/UK.xlsx')\n",
        "os.unlink('/content/FR.xlsx')\n",
        "os.unlink('/content/DE.xlsx')\n",
        "os.unlink('/content/UK_old.xlsx') \n",
        "\n",
        "os.listdir('/content')"
      ]
    },
    {
      "cell_type": "code",
      "source": [],
      "metadata": {
        "id": "VJ42Z64xT0lx"
      },
      "execution_count": null,
      "outputs": []
    }
  ],
  "metadata": {
    "colab": {
      "provenance": [],
      "toc_visible": true,
      "include_colab_link": true
    },
    "kernelspec": {
      "display_name": "Python 3 (ipykernel)",
      "language": "python",
      "name": "python3"
    },
    "language_info": {
      "codemirror_mode": {
        "name": "ipython",
        "version": 3
      },
      "file_extension": ".py",
      "mimetype": "text/x-python",
      "name": "python",
      "nbconvert_exporter": "python",
      "pygments_lexer": "ipython3",
      "version": "3.9.7"
    },
    "toc-autonumbering": true
  },
  "nbformat": 4,
  "nbformat_minor": 0
}